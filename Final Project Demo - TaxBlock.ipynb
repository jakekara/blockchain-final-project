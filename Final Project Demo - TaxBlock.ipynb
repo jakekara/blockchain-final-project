{
 "cells": [
  {
   "cell_type": "code",
   "execution_count": 1,
   "metadata": {},
   "outputs": [
    {
     "name": "stdout",
     "output_type": "stream",
     "text": [
      "Loading contract 'Named'\n",
      "Loading contract 'Owned'\n",
      "Loading contract 'Authorized'\n",
      "Loading contract 'TaxAuthority'\n",
      "Loading contract 'Taxed'\n",
      "Loading contract 'Traded'\n",
      "Loading contract 'Property'\n",
      "Loading contract 'TaxBill'\n",
      "Loading contract 'Authorized'\n",
      "Loading contract 'Offer'\n",
      "\n",
      "Compiling...\n",
      "Success!\n"
     ]
    },
    {
     "name": "stderr",
     "output_type": "stream",
     "text": [
      "/home/jake/Desktop/class/final_project/test_contracts.py:30: ResourceWarning: unclosed file <_io.TextIOWrapper name='dump.sol' mode='w' encoding='UTF-8'>\n",
      "  open(\"dump.sol\",\"w\").write(source.to_string());\n"
     ]
    }
   ],
   "source": [
    "from test_contracts import source, interface"
   ]
  },
  {
   "cell_type": "code",
   "execution_count": 2,
   "metadata": {},
   "outputs": [],
   "source": [
    "bethel = interface.instance(\n",
    "    name=\"TaxAuthority\",\n",
    "    constructor_args=[\"Bethel\".encode()]\n",
    ")"
   ]
  },
  {
   "cell_type": "code",
   "execution_count": 3,
   "metadata": {},
   "outputs": [
    {
     "data": {
      "text/plain": [
       "b'Bethel\\x00\\x00\\x00\\x00\\x00\\x00\\x00\\x00\\x00\\x00\\x00\\x00\\x00\\x00\\x00\\x00\\x00\\x00\\x00\\x00\\x00\\x00\\x00\\x00\\x00\\x00'"
      ]
     },
     "execution_count": 3,
     "metadata": {},
     "output_type": "execute_result"
    }
   ],
   "source": [
    "bethel.functions.name().call()"
   ]
  },
  {
   "cell_type": "code",
   "execution_count": 4,
   "metadata": {
    "scrolled": true
   },
   "outputs": [
    {
     "name": "stdout",
     "output_type": "stream",
     "text": [
      "TaxBlock rules for the town of b'Bethel\\x00\\x00\\x00\\x00\\x00\\x00\\x00\\x00\\x00\\x00\\x00\\x00\\x00\\x00\\x00\\x00\\x00\\x00\\x00\\x00\\x00\\x00\\x00\\x00\\x00\\x00'\n",
      "================================================================================================================================================\n",
      "* The tax for transferring properties is $0 per $1000 of assessed value.\n",
      "* Properties cannot be sold for 0 permille more than their assessed value.\n",
      "* b'Bethel\\x00\\x00\\x00\\x00\\x00\\x00\\x00\\x00\\x00\\x00\\x00\\x00\\x00\\x00\\x00\\x00\\x00\\x00\\x00\\x00\\x00\\x00\\x00\\x00\\x00\\x00' has issued 0 tax bills.\n"
     ]
    }
   ],
   "source": [
    "def underline(msg, char=\"=\"):\n",
    "    msg_len = len(msg)\n",
    "    print (msg)\n",
    "    print (char * msg_len)\n",
    "    \n",
    "def summarize(tax_auth):\n",
    "    underline (\"TaxBlock rules for the town of %s\" % tax_auth.functions.name().call())\n",
    "    print(\"* The tax for transferring properties is $%d per $1000 of assessed value.\" % (\n",
    "        tax_auth.functions.transferTaxRate().call()\n",
    "    ))\n",
    "    print(\"* Properties cannot be sold for %d permille more than their assessed value.\" % (\n",
    "        tax_auth.functions.auditThreshold().call()\n",
    "    ))\n",
    "    print(\"* %s has issued %d tax bills.\" % (\n",
    "        tax_auth.functions.name().call(),\n",
    "        tax_auth.functions.taxBillCount().call()\n",
    "    ))\n",
    "    \n",
    "summarize(bethel)"
   ]
  },
  {
   "cell_type": "code",
   "execution_count": 5,
   "metadata": {},
   "outputs": [
    {
     "name": "stdout",
     "output_type": "stream",
     "text": [
      "TaxBlock rules for the town of b'Bethel\\x00\\x00\\x00\\x00\\x00\\x00\\x00\\x00\\x00\\x00\\x00\\x00\\x00\\x00\\x00\\x00\\x00\\x00\\x00\\x00\\x00\\x00\\x00\\x00\\x00\\x00'\n",
      "================================================================================================================================================\n",
      "* The tax for transferring properties is $10 per $1000 of assessed value.\n",
      "* Properties cannot be sold for 500 permille more than their assessed value.\n",
      "* b'Bethel\\x00\\x00\\x00\\x00\\x00\\x00\\x00\\x00\\x00\\x00\\x00\\x00\\x00\\x00\\x00\\x00\\x00\\x00\\x00\\x00\\x00\\x00\\x00\\x00\\x00\\x00' has issued 0 tax bills.\n"
     ]
    }
   ],
   "source": [
    "bethel.functions.setAuditThreshold(500).transact()\n",
    "bethel.functions.setTransferTaxRate(10).transact()\n",
    "summarize(bethel)"
   ]
  },
  {
   "cell_type": "code",
   "execution_count": null,
   "metadata": {},
   "outputs": [],
   "source": []
  },
  {
   "cell_type": "code",
   "execution_count": 6,
   "metadata": {},
   "outputs": [],
   "source": [
    "def make_property(tax_auth, property_name):\n",
    "    tax_auth.functions.createProperty(property_name.encode()).transact()\n",
    "    \n",
    "make_property(bethel, \"1 Greenwood Avenue\")\n",
    "make_property(bethel, \"2 Greenwood Avenue\")\n",
    "make_property(bethel, \"3 Greenwood Avenue\")\n",
    "make_property(bethel, \"4 Greenwood Avenue\")"
   ]
  },
  {
   "cell_type": "code",
   "execution_count": 7,
   "metadata": {},
   "outputs": [],
   "source": [
    "def get_property(tax_auth, property_name):\n",
    "    return interface.instance_at_address(\n",
    "        name=\"Property\",\n",
    "        address=tax_auth.functions.getPropertyByName(\n",
    "            property_name\n",
    "        ).call()\n",
    ")\n",
    "\n",
    "greenwood_1 = get_property(bethel, \"1 Greenwood Avenue\".encode())"
   ]
  },
  {
   "cell_type": "code",
   "execution_count": 8,
   "metadata": {},
   "outputs": [
    {
     "data": {
      "text/plain": [
       "b'1 Greenwood Avenue\\x00\\x00\\x00\\x00\\x00\\x00\\x00\\x00\\x00\\x00\\x00\\x00\\x00\\x00'"
      ]
     },
     "execution_count": 8,
     "metadata": {},
     "output_type": "execute_result"
    }
   ],
   "source": [
    "greenwood_1.functions.name().call()"
   ]
  },
  {
   "cell_type": "code",
   "execution_count": 9,
   "metadata": {},
   "outputs": [
    {
     "data": {
      "text/plain": [
       "'0xF2E246BB76DF876Cef8b38ae84130F4F55De395b'"
      ]
     },
     "execution_count": 9,
     "metadata": {},
     "output_type": "execute_result"
    }
   ],
   "source": [
    "greenwood_1.functions.owner().call()"
   ]
  },
  {
   "cell_type": "code",
   "execution_count": 10,
   "metadata": {},
   "outputs": [
    {
     "data": {
      "text/plain": [
       "['0x7E5F4552091A69125d5DfCb7b8C2659029395Bdf',\n",
       " '0x2B5AD5c4795c026514f8317c7a215E218DcCD6cF',\n",
       " '0x6813Eb9362372EEF6200f3b1dbC3f819671cBA69',\n",
       " '0x1efF47bc3a10a45D4B230B5d10E37751FE6AA718',\n",
       " '0xe1AB8145F7E55DC933d51a18c793F901A3A0b276',\n",
       " '0xE57bFE9F44b819898F47BF37E5AF72a0783e1141',\n",
       " '0xd41c057fd1c78805AAC12B0A94a405c0461A6FBb',\n",
       " '0xF1F6619B38A98d6De0800F1DefC0a6399eB6d30C',\n",
       " '0xF7Edc8FA1eCc32967F827C9043FcAe6ba73afA5c',\n",
       " '0x4CCeBa2d7D2B4fdcE4304d3e09a1fea9fbEb1528']"
      ]
     },
     "execution_count": 10,
     "metadata": {},
     "output_type": "execute_result"
    }
   ],
   "source": [
    "interface.w3.eth.accounts"
   ]
  },
  {
   "cell_type": "code",
   "execution_count": 11,
   "metadata": {},
   "outputs": [
    {
     "data": {
      "text/plain": [
       "'0x7E5F4552091A69125d5DfCb7b8C2659029395Bdf'"
      ]
     },
     "execution_count": 11,
     "metadata": {},
     "output_type": "execute_result"
    }
   ],
   "source": [
    "bethel.functions.owner().call()"
   ]
  },
  {
   "cell_type": "code",
   "execution_count": 12,
   "metadata": {},
   "outputs": [],
   "source": [
    "def transfer_property(tax_auth, prop, new_owner_address):\n",
    "    tax_auth.functions.transferProperty(\n",
    "        prop.functions.name().call(),\n",
    "        new_owner_address\n",
    "    ).transact()\n",
    "    \n",
    "transfer_property(bethel, greenwood_1, interface.w3.eth.accounts[2])"
   ]
  },
  {
   "cell_type": "code",
   "execution_count": 13,
   "metadata": {},
   "outputs": [
    {
     "data": {
      "text/plain": [
       "'0x6813Eb9362372EEF6200f3b1dbC3f819671cBA69'"
      ]
     },
     "execution_count": 13,
     "metadata": {},
     "output_type": "execute_result"
    }
   ],
   "source": [
    "greenwood_1.functions.owner().call()"
   ]
  },
  {
   "cell_type": "code",
   "execution_count": null,
   "metadata": {},
   "outputs": [],
   "source": []
  },
  {
   "cell_type": "code",
   "execution_count": 14,
   "metadata": {},
   "outputs": [
    {
     "data": {
      "text/plain": [
       "'0xF2E246BB76DF876Cef8b38ae84130F4F55De395b'"
      ]
     },
     "execution_count": 14,
     "metadata": {},
     "output_type": "execute_result"
    }
   ],
   "source": [
    "def reposses_property(tax_auth, prop):\n",
    "    transfer_property(\n",
    "        tax_auth, \n",
    "        prop, \n",
    "        tax_auth.address\n",
    "    )\n",
    "reposses_property(bethel, greenwood_1)\n",
    "greenwood_1.functions.owner().call()"
   ]
  },
  {
   "cell_type": "code",
   "execution_count": null,
   "metadata": {},
   "outputs": [],
   "source": [
    "\n"
   ]
  },
  {
   "cell_type": "markdown",
   "metadata": {},
   "source": [
    "# Read event log\n"
   ]
  },
  {
   "cell_type": "code",
   "execution_count": 15,
   "metadata": {},
   "outputs": [
    {
     "data": {
      "text/plain": [
       "[AttributeDict({'args': AttributeDict({'propertyName': b'1 Greenwood Avenue\\x00\\x00\\x00\\x00\\x00\\x00\\x00\\x00\\x00\\x00\\x00\\x00\\x00\\x00'}),\n",
       "  'event': 'NewProperty',\n",
       "  'logIndex': 0,\n",
       "  'transactionIndex': 0,\n",
       "  'transactionHash': HexBytes('0xe6984346fe37e3891f307c1451ddec0c7d46cd5a2c681a79625232a5c78b6d8e'),\n",
       "  'address': '0xF2E246BB76DF876Cef8b38ae84130F4F55De395b',\n",
       "  'blockHash': HexBytes('0x46643c9335a77ffa2049b4448ad4f4015bfe8dec9044e0717e7ffd386b36e7ca'),\n",
       "  'blockNumber': 4}),\n",
       " AttributeDict({'args': AttributeDict({'propertyName': b'2 Greenwood Avenue\\x00\\x00\\x00\\x00\\x00\\x00\\x00\\x00\\x00\\x00\\x00\\x00\\x00\\x00'}),\n",
       "  'event': 'NewProperty',\n",
       "  'logIndex': 0,\n",
       "  'transactionIndex': 0,\n",
       "  'transactionHash': HexBytes('0xb70daef51343c374aa967189a3c34a561cb67c88dd57ce2091fb19858808f36b'),\n",
       "  'address': '0xF2E246BB76DF876Cef8b38ae84130F4F55De395b',\n",
       "  'blockHash': HexBytes('0x437c4aedec9dce1af1c2e53b30f49dddcf2721a5ce80b60b5d18892e3ffc17cd'),\n",
       "  'blockNumber': 5}),\n",
       " AttributeDict({'args': AttributeDict({'propertyName': b'3 Greenwood Avenue\\x00\\x00\\x00\\x00\\x00\\x00\\x00\\x00\\x00\\x00\\x00\\x00\\x00\\x00'}),\n",
       "  'event': 'NewProperty',\n",
       "  'logIndex': 0,\n",
       "  'transactionIndex': 0,\n",
       "  'transactionHash': HexBytes('0xc6abb520dd7d291839d0badddfc74a9415eacc7d40c114d4db4ddfb5b6c3d039'),\n",
       "  'address': '0xF2E246BB76DF876Cef8b38ae84130F4F55De395b',\n",
       "  'blockHash': HexBytes('0xd4f0909a5ba87a034629f81d4a558977bc50b80fe73b4e815bf1e7175b122298'),\n",
       "  'blockNumber': 6}),\n",
       " AttributeDict({'args': AttributeDict({'propertyName': b'4 Greenwood Avenue\\x00\\x00\\x00\\x00\\x00\\x00\\x00\\x00\\x00\\x00\\x00\\x00\\x00\\x00'}),\n",
       "  'event': 'NewProperty',\n",
       "  'logIndex': 0,\n",
       "  'transactionIndex': 0,\n",
       "  'transactionHash': HexBytes('0xca9c8947b855743e7a6360876f85b5dd2e4c06c62518a9c98240834e13ca46c7'),\n",
       "  'address': '0xF2E246BB76DF876Cef8b38ae84130F4F55De395b',\n",
       "  'blockHash': HexBytes('0x0ea20006e2fd773e9e768a9ccf5172138c294d0a34de90fbf38a6bb87ff0eeb7'),\n",
       "  'blockNumber': 7})]"
      ]
     },
     "execution_count": 15,
     "metadata": {},
     "output_type": "execute_result"
    }
   ],
   "source": [
    "def read_log_entries(entity, event_type):\n",
    "    return entity.events[event_type].createFilter(fromBlock=0).get_all_entries()\n",
    "\n",
    "events = read_log_entries(bethel, \"NewProperty\")\n",
    "events"
   ]
  },
  {
   "cell_type": "markdown",
   "metadata": {},
   "source": [
    "# Check if properties are paid up"
   ]
  },
  {
   "cell_type": "code",
   "execution_count": 16,
   "metadata": {},
   "outputs": [
    {
     "data": {
      "text/plain": [
       "0"
      ]
     },
     "execution_count": 16,
     "metadata": {},
     "output_type": "execute_result"
    }
   ],
   "source": [
    "greenwood_1.functions.billIndex().call()"
   ]
  },
  {
   "cell_type": "code",
   "execution_count": 17,
   "metadata": {},
   "outputs": [
    {
     "data": {
      "text/plain": [
       "0"
      ]
     },
     "execution_count": 17,
     "metadata": {},
     "output_type": "execute_result"
    }
   ],
   "source": [
    "bethel.functions.taxBillCount().call()"
   ]
  },
  {
   "cell_type": "code",
   "execution_count": 18,
   "metadata": {},
   "outputs": [
    {
     "data": {
      "text/plain": [
       "True"
      ]
     },
     "execution_count": 18,
     "metadata": {},
     "output_type": "execute_result"
    }
   ],
   "source": [
    "greenwood_1.functions.isPaidCurrent().call()"
   ]
  },
  {
   "cell_type": "markdown",
   "metadata": {},
   "source": [
    "# Make some tax bills"
   ]
  },
  {
   "cell_type": "code",
   "execution_count": null,
   "metadata": {},
   "outputs": [],
   "source": []
  },
  {
   "cell_type": "code",
   "execution_count": null,
   "metadata": {},
   "outputs": [],
   "source": []
  },
  {
   "cell_type": "code",
   "execution_count": 19,
   "metadata": {},
   "outputs": [
    {
     "data": {
      "text/plain": [
       "1"
      ]
     },
     "execution_count": 19,
     "metadata": {},
     "output_type": "execute_result"
    }
   ],
   "source": [
    "def create_tax_bill(tax_auth, tax_rate):\n",
    "    \n",
    "    tax_auth.functions.createTaxBill(tax_rate).transact()\n",
    "\n",
    "create_tax_bill(bethel, 30)\n",
    "bethel.functions.taxBillCount().call()"
   ]
  },
  {
   "cell_type": "code",
   "execution_count": 20,
   "metadata": {
    "scrolled": true
   },
   "outputs": [
    {
     "data": {
      "text/plain": [
       "[AttributeDict({'args': AttributeDict({'taxBillIndex': 0}),\n",
       "  'event': 'NewTaxBill',\n",
       "  'logIndex': 0,\n",
       "  'transactionIndex': 0,\n",
       "  'transactionHash': HexBytes('0xd8f3abe7aa3b8d0eb613dc40c9bdcdb2be2912dfce2bf0826218b1b26f16a498'),\n",
       "  'address': '0xF2E246BB76DF876Cef8b38ae84130F4F55De395b',\n",
       "  'blockHash': HexBytes('0x030907bf65b14e802cef29febb5f6a8686cef109645d3bddf9e1c29730061533'),\n",
       "  'blockNumber': 10})]"
      ]
     },
     "execution_count": 20,
     "metadata": {},
     "output_type": "execute_result"
    }
   ],
   "source": [
    "read_log_entries(bethel, \"NewTaxBill\")"
   ]
  },
  {
   "cell_type": "code",
   "execution_count": null,
   "metadata": {},
   "outputs": [],
   "source": []
  },
  {
   "cell_type": "markdown",
   "metadata": {},
   "source": [
    "# Is that property still paid current?"
   ]
  },
  {
   "cell_type": "code",
   "execution_count": 21,
   "metadata": {},
   "outputs": [
    {
     "data": {
      "text/plain": [
       "False"
      ]
     },
     "execution_count": 21,
     "metadata": {},
     "output_type": "execute_result"
    }
   ],
   "source": [
    "greenwood_1.functions.isPaidCurrent().call()"
   ]
  },
  {
   "cell_type": "markdown",
   "metadata": {},
   "source": [
    "# Let's pay the bill... Let's see how much we owe."
   ]
  },
  {
   "cell_type": "code",
   "execution_count": null,
   "metadata": {},
   "outputs": [],
   "source": []
  },
  {
   "cell_type": "code",
   "execution_count": 22,
   "metadata": {},
   "outputs": [
    {
     "name": "stdout",
     "output_type": "stream",
     "text": [
      "Property owes... 0 \n"
     ]
    }
   ],
   "source": [
    "tax_bill_index = greenwood_1.functions.billIndex().call()\n",
    "\n",
    "tax_bill = interface.instance_at_address(\n",
    "    \"TaxBill\",\n",
    "    bethel.functions.taxBills(tax_bill_index).call()\n",
    ")\n",
    "\n",
    "print (\"Property owes... %d \" % tax_bill.functions.amountDue(greenwood_1.address).call())"
   ]
  },
  {
   "cell_type": "markdown",
   "metadata": {},
   "source": [
    "# That's because the property has no value...\n",
    "\n",
    "Let's make it a $1 million property."
   ]
  },
  {
   "cell_type": "code",
   "execution_count": 23,
   "metadata": {},
   "outputs": [
    {
     "data": {
      "text/plain": [
       "HexBytes('0xb2c87cdbd5d3494b4d4389cb56eb6067efdde2b59843f7dc812c566b09716fa7')"
      ]
     },
     "execution_count": 23,
     "metadata": {},
     "output_type": "execute_result"
    }
   ],
   "source": [
    "bethel.functions.setPropertyAssessedValue(greenwood_1.address,1000 * 1000).transact()"
   ]
  },
  {
   "cell_type": "markdown",
   "metadata": {},
   "source": [
    "... remember, tax rates are permille, not percent, so they are $30 per $1,000 in value, or:"
   ]
  },
  {
   "cell_type": "code",
   "execution_count": 24,
   "metadata": {},
   "outputs": [
    {
     "name": "stdout",
     "output_type": "stream",
     "text": [
      "Property owes... 30000 \n"
     ]
    }
   ],
   "source": [
    "print (\"Property owes... %d \" % tax_bill.functions.amountDue(greenwood_1.address).call())"
   ]
  },
  {
   "cell_type": "markdown",
   "metadata": {},
   "source": [
    "# OK, now let's pay the bill"
   ]
  },
  {
   "cell_type": "code",
   "execution_count": 25,
   "metadata": {},
   "outputs": [
    {
     "data": {
      "text/plain": [
       "HexBytes('0xfdca43eac36dc084b056d95e8fc89dbb818996c7caffcbc8514518ddd9086e2a')"
      ]
     },
     "execution_count": 25,
     "metadata": {},
     "output_type": "execute_result"
    }
   ],
   "source": [
    "bethel.functions.payBill(greenwood_1.address).transact({\n",
    "    \"value\":tax_bill.functions.amountDue(greenwood_1.address).call(),\n",
    "})"
   ]
  },
  {
   "cell_type": "code",
   "execution_count": 26,
   "metadata": {},
   "outputs": [
    {
     "data": {
      "text/plain": [
       "1"
      ]
     },
     "execution_count": 26,
     "metadata": {},
     "output_type": "execute_result"
    }
   ],
   "source": [
    "greenwood_1.functions.billIndex().call()"
   ]
  },
  {
   "cell_type": "code",
   "execution_count": 27,
   "metadata": {},
   "outputs": [
    {
     "data": {
      "text/plain": [
       "[AttributeDict({'args': AttributeDict({'status': 2}),\n",
       "  'event': 'BillPaid',\n",
       "  'logIndex': 0,\n",
       "  'transactionIndex': 0,\n",
       "  'transactionHash': HexBytes('0xfdca43eac36dc084b056d95e8fc89dbb818996c7caffcbc8514518ddd9086e2a'),\n",
       "  'address': '0xF2E246BB76DF876Cef8b38ae84130F4F55De395b',\n",
       "  'blockHash': HexBytes('0x4afe0ddd170b90824b79ec321bc7a418eb19554f32ece05d5b6dee8f5a7d91f0'),\n",
       "  'blockNumber': 12})]"
      ]
     },
     "execution_count": 27,
     "metadata": {},
     "output_type": "execute_result"
    }
   ],
   "source": [
    "read_log_entries(bethel, \"BillPaid\")"
   ]
  },
  {
   "cell_type": "code",
   "execution_count": 28,
   "metadata": {},
   "outputs": [
    {
     "data": {
      "text/plain": [
       "30000"
      ]
     },
     "execution_count": 28,
     "metadata": {},
     "output_type": "execute_result"
    }
   ],
   "source": [
    "tax_bill.functions.totalReceipts().call()"
   ]
  },
  {
   "cell_type": "code",
   "execution_count": 29,
   "metadata": {},
   "outputs": [
    {
     "data": {
      "text/plain": [
       "True"
      ]
     },
     "execution_count": 29,
     "metadata": {},
     "output_type": "execute_result"
    }
   ],
   "source": [
    "greenwood_1.functions.isPaidCurrent().call()"
   ]
  },
  {
   "cell_type": "code",
   "execution_count": 30,
   "metadata": {},
   "outputs": [
    {
     "data": {
      "text/plain": [
       "0"
      ]
     },
     "execution_count": 30,
     "metadata": {},
     "output_type": "execute_result"
    }
   ],
   "source": [
    "tax_bill.functions.amountDue(greenwood_1.address).call()"
   ]
  },
  {
   "cell_type": "code",
   "execution_count": 31,
   "metadata": {},
   "outputs": [
    {
     "name": "stdout",
     "output_type": "stream",
     "text": [
      "0x7E5F4552091A69125d5DfCb7b8C2659029395Bdf\t999999999999999993805282\n",
      "0x2B5AD5c4795c026514f8317c7a215E218DcCD6cF\t1000000000000000000000000\n",
      "0x6813Eb9362372EEF6200f3b1dbC3f819671cBA69\t1000000000000000000000000\n",
      "0x1efF47bc3a10a45D4B230B5d10E37751FE6AA718\t1000000000000000000000000\n",
      "0xe1AB8145F7E55DC933d51a18c793F901A3A0b276\t1000000000000000000000000\n",
      "0xE57bFE9F44b819898F47BF37E5AF72a0783e1141\t1000000000000000000000000\n",
      "0xd41c057fd1c78805AAC12B0A94a405c0461A6FBb\t1000000000000000000000000\n",
      "0xF1F6619B38A98d6De0800F1DefC0a6399eB6d30C\t1000000000000000000000000\n",
      "0xF7Edc8FA1eCc32967F827C9043FcAe6ba73afA5c\t1000000000000000000000000\n",
      "0x4CCeBa2d7D2B4fdcE4304d3e09a1fea9fbEb1528\t1000000000000000000000000\n"
     ]
    }
   ],
   "source": [
    "for acc in interface.w3.eth.accounts:\n",
    "     print (\"%s\\t%s\" % (acc, interface.w3.eth.getBalance(acc)) )"
   ]
  },
  {
   "cell_type": "code",
   "execution_count": 32,
   "metadata": {},
   "outputs": [
    {
     "data": {
      "text/plain": [
       "'0xdb65462AbE49EBCE6DE2c8229Bf23C2c590B60E7'"
      ]
     },
     "execution_count": 32,
     "metadata": {},
     "output_type": "execute_result"
    }
   ],
   "source": [
    "import random \n",
    "\n",
    "def create_random_address(w3):\n",
    "    \n",
    "    \"\"\" Borrowed this function from lecture \"\"\"\n",
    "    \n",
    "    random_num =random.randrange(10 ** 80)\n",
    "    hexi = \"%064x\" % random_num\n",
    "    \n",
    "    return w3.toChecksumAddress('0x' + hexi[:40])\n",
    "\n",
    "bob = create_random_address(interface.w3)\n",
    "bob"
   ]
  },
  {
   "cell_type": "markdown",
   "metadata": {},
   "source": [
    "# Now let's try selling a property\n",
    "\n",
    "Remeber the rules:\n",
    "\n",
    "1. A property with back taxes cannot be sold\n",
    "2. A  property cannot be sold for a lot more than* its assessed value\n",
    "\n",
    "\"A lot more\" is defined as:\n",
    "\n",
    "property.assessedValue + (tax_authority.auditTreshold / 1000) * property.assessedValue"
   ]
  },
  {
   "cell_type": "code",
   "execution_count": 33,
   "metadata": {},
   "outputs": [
    {
     "data": {
      "text/plain": [
       "30000"
      ]
     },
     "execution_count": 33,
     "metadata": {},
     "output_type": "execute_result"
    }
   ],
   "source": [
    "def get_balance(entity):\n",
    "    return interface.w3.eth.getBalance(entity.address)\n",
    "get_balance(bethel)"
   ]
  },
  {
   "cell_type": "code",
   "execution_count": 34,
   "metadata": {},
   "outputs": [
    {
     "data": {
      "text/plain": [
       "1000000000"
      ]
     },
     "execution_count": 34,
     "metadata": {},
     "output_type": "execute_result"
    }
   ],
   "source": [
    "def create_random_funded_account(w3, amount=1000 * 1000 * 1000):\n",
    "    \n",
    "    addr = create_random_address(w3)\n",
    "    \n",
    "    w3.eth.sendTransaction({\n",
    "        \"to\":addr,\n",
    "        \"from\":interface.w3.eth.accounts[2],\n",
    "        \"value\":amount\n",
    "    })\n",
    "    \n",
    "    w3.eth.accounts.append(addr)\n",
    "    \n",
    "    return addr\n",
    "\n",
    "bob = create_random_funded_account(interface.w3)\n",
    "\n",
    "interface.w3.eth.getBalance(bob)"
   ]
  },
  {
   "cell_type": "code",
   "execution_count": 35,
   "metadata": {},
   "outputs": [
    {
     "data": {
      "text/plain": [
       "[('0x7E5F4552091A69125d5DfCb7b8C2659029395Bdf', 999999999999999993805282),\n",
       " ('0x2B5AD5c4795c026514f8317c7a215E218DcCD6cF', 1000000000000000000000000),\n",
       " ('0x6813Eb9362372EEF6200f3b1dbC3f819671cBA69', 999999999999998999979000),\n",
       " ('0x1efF47bc3a10a45D4B230B5d10E37751FE6AA718', 1000000000000000000000000),\n",
       " ('0xe1AB8145F7E55DC933d51a18c793F901A3A0b276', 1000000000000000000000000),\n",
       " ('0xE57bFE9F44b819898F47BF37E5AF72a0783e1141', 1000000000000000000000000),\n",
       " ('0xd41c057fd1c78805AAC12B0A94a405c0461A6FBb', 1000000000000000000000000),\n",
       " ('0xF1F6619B38A98d6De0800F1DefC0a6399eB6d30C', 1000000000000000000000000),\n",
       " ('0xF7Edc8FA1eCc32967F827C9043FcAe6ba73afA5c', 1000000000000000000000000),\n",
       " ('0x4CCeBa2d7D2B4fdcE4304d3e09a1fea9fbEb1528', 1000000000000000000000000)]"
      ]
     },
     "execution_count": 35,
     "metadata": {},
     "output_type": "execute_result"
    }
   ],
   "source": [
    "[(acc, interface.w3.eth.getBalance(acc)) for acc in interface.w3.eth.accounts]"
   ]
  },
  {
   "cell_type": "code",
   "execution_count": 36,
   "metadata": {},
   "outputs": [],
   "source": [
    "me = interface.w3.eth.accounts[0]"
   ]
  },
  {
   "cell_type": "code",
   "execution_count": 37,
   "metadata": {},
   "outputs": [
    {
     "data": {
      "text/plain": [
       "'0xF2E246BB76DF876Cef8b38ae84130F4F55De395b'"
      ]
     },
     "execution_count": 37,
     "metadata": {},
     "output_type": "execute_result"
    }
   ],
   "source": [
    "greenwood_1.functions.owner().call()"
   ]
  },
  {
   "cell_type": "code",
   "execution_count": 38,
   "metadata": {},
   "outputs": [
    {
     "data": {
      "text/plain": [
       "'0xF2E246BB76DF876Cef8b38ae84130F4F55De395b'"
      ]
     },
     "execution_count": 38,
     "metadata": {},
     "output_type": "execute_result"
    }
   ],
   "source": [
    "bethel.address"
   ]
  },
  {
   "cell_type": "code",
   "execution_count": 39,
   "metadata": {},
   "outputs": [],
   "source": [
    "joe = interface.w3.eth.accounts[5]\n",
    "transfer_property(bethel, greenwood_1, joe)"
   ]
  },
  {
   "cell_type": "code",
   "execution_count": 40,
   "metadata": {},
   "outputs": [
    {
     "data": {
      "text/plain": [
       "'0xE57bFE9F44b819898F47BF37E5AF72a0783e1141'"
      ]
     },
     "execution_count": 40,
     "metadata": {},
     "output_type": "execute_result"
    }
   ],
   "source": [
    "greenwood_1.functions.owner().call()"
   ]
  },
  {
   "cell_type": "code",
   "execution_count": 41,
   "metadata": {},
   "outputs": [
    {
     "data": {
      "text/plain": [
       "'0xE57bFE9F44b819898F47BF37E5AF72a0783e1141'"
      ]
     },
     "execution_count": 41,
     "metadata": {},
     "output_type": "execute_result"
    }
   ],
   "source": [
    "joe"
   ]
  },
  {
   "cell_type": "code",
   "execution_count": 42,
   "metadata": {},
   "outputs": [],
   "source": [
    "offer = interface.instance(\n",
    "    name=\"Offer\",\n",
    "    constructor_args=[greenwood_1.address],\n",
    "    value = 1 + 1000 * 1000\n",
    ")"
   ]
  },
  {
   "cell_type": "code",
   "execution_count": 43,
   "metadata": {},
   "outputs": [
    {
     "data": {
      "text/plain": [
       "HexBytes('0x533816ae299aa4478711d9589396c8fb2d07750567e06102f61b10182cf7db32')"
      ]
     },
     "execution_count": 43,
     "metadata": {},
     "output_type": "execute_result"
    }
   ],
   "source": [
    "# Submit the offer\n",
    "greenwood_1.functions.makeOffer(offer.address).transact({\"from\":joe})"
   ]
  },
  {
   "cell_type": "code",
   "execution_count": 44,
   "metadata": {},
   "outputs": [
    {
     "data": {
      "text/plain": [
       "[AttributeDict({'args': AttributeDict({'offerIndex': 0}),\n",
       "  'event': 'NewOffer',\n",
       "  'logIndex': 0,\n",
       "  'transactionIndex': 0,\n",
       "  'transactionHash': HexBytes('0x533816ae299aa4478711d9589396c8fb2d07750567e06102f61b10182cf7db32'),\n",
       "  'address': '0x4F9DA333DCf4E5A53772791B95c161B2FC041859',\n",
       "  'blockHash': HexBytes('0x9b61311cf7164a12c8e7a300d9a6968e8791af09c6c6b622c7d1c97ab91b7304'),\n",
       "  'blockNumber': 16})]"
      ]
     },
     "execution_count": 44,
     "metadata": {},
     "output_type": "execute_result"
    }
   ],
   "source": [
    "read_log_entries(greenwood_1, \"NewOffer\")"
   ]
  },
  {
   "cell_type": "code",
   "execution_count": 45,
   "metadata": {},
   "outputs": [
    {
     "data": {
      "text/plain": [
       "1000001"
      ]
     },
     "execution_count": 45,
     "metadata": {},
     "output_type": "execute_result"
    }
   ],
   "source": [
    "# Let's make sure the offer is funded\n",
    "interface.w3.eth.getBalance(offer.address)"
   ]
  },
  {
   "cell_type": "code",
   "execution_count": 46,
   "metadata": {},
   "outputs": [
    {
     "data": {
      "text/plain": [
       "True"
      ]
     },
     "execution_count": 46,
     "metadata": {},
     "output_type": "execute_result"
    }
   ],
   "source": [
    "# Make sure joe owns it\n",
    "greenwood_1.functions.owner().call() == joe"
   ]
  },
  {
   "cell_type": "code",
   "execution_count": 47,
   "metadata": {},
   "outputs": [
    {
     "data": {
      "text/plain": [
       "True"
      ]
     },
     "execution_count": 47,
     "metadata": {},
     "output_type": "execute_result"
    }
   ],
   "source": [
    "# Who wants to buy it?\n",
    "offer.functions.buyer().call() == me"
   ]
  },
  {
   "cell_type": "code",
   "execution_count": 48,
   "metadata": {},
   "outputs": [
    {
     "data": {
      "text/plain": [
       "999999999999999999914816"
      ]
     },
     "execution_count": 48,
     "metadata": {},
     "output_type": "execute_result"
    }
   ],
   "source": [
    "interface.w3.eth.getBalance(joe)"
   ]
  },
  {
   "cell_type": "code",
   "execution_count": 49,
   "metadata": {},
   "outputs": [
    {
     "data": {
      "text/plain": [
       "HexBytes('0x1001f4713016900a532e68691c8ea8662f17e8a26f632043379fc00e756629aa')"
      ]
     },
     "execution_count": 49,
     "metadata": {},
     "output_type": "execute_result"
    }
   ],
   "source": [
    "offer.functions.accept().transact({\"from\":joe})"
   ]
  },
  {
   "cell_type": "code",
   "execution_count": 50,
   "metadata": {},
   "outputs": [
    {
     "data": {
      "text/plain": [
       "1000000000000000000838909"
      ]
     },
     "execution_count": 50,
     "metadata": {},
     "output_type": "execute_result"
    }
   ],
   "source": [
    "interface.w3.eth.getBalance(joe)"
   ]
  },
  {
   "cell_type": "code",
   "execution_count": 51,
   "metadata": {},
   "outputs": [
    {
     "data": {
      "text/plain": [
       "True"
      ]
     },
     "execution_count": 51,
     "metadata": {},
     "output_type": "execute_result"
    }
   ],
   "source": [
    "# Now let's see who owns it\n",
    "greenwood_1.functions.owner().call() == me"
   ]
  },
  {
   "cell_type": "code",
   "execution_count": 59,
   "metadata": {},
   "outputs": [
    {
     "name": "stdout",
     "output_type": "stream",
     "text": [
      "The most I can sell the property for is: 1500000\n"
     ]
    }
   ],
   "source": [
    "print (\"The most I can sell the property for is: %s\" \n",
    "       % bethel.functions.maximumSalePrice(greenwood_1.functions.assessedValue().call()).call())"
   ]
  },
  {
   "cell_type": "code",
   "execution_count": null,
   "metadata": {},
   "outputs": [],
   "source": []
  },
  {
   "cell_type": "code",
   "execution_count": null,
   "metadata": {},
   "outputs": [],
   "source": []
  },
  {
   "cell_type": "code",
   "execution_count": null,
   "metadata": {},
   "outputs": [],
   "source": []
  }
 ],
 "metadata": {
  "kernelspec": {
   "display_name": "Python 3",
   "language": "python",
   "name": "python3"
  },
  "language_info": {
   "codemirror_mode": {
    "name": "ipython",
    "version": 3
   },
   "file_extension": ".py",
   "mimetype": "text/x-python",
   "name": "python",
   "nbconvert_exporter": "python",
   "pygments_lexer": "ipython3",
   "version": "3.6.5"
  }
 },
 "nbformat": 4,
 "nbformat_minor": 2
}
