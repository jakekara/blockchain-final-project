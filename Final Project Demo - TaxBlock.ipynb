{
 "cells": [
  {
   "cell_type": "markdown",
   "metadata": {},
   "source": [
    "# TaxBlock demonstration\n",
    "\n",
    "Jake Kara  \n",
    "Final project  \n",
    "Bitcoin and Blockchain, CSCI E-118  \n",
    "Fall 2018\n"
   ]
  },
  {
   "cell_type": "markdown",
   "metadata": {},
   "source": [
    "# Load solidity contracts\n",
    "\n",
    "The solidity contracts that comprise TaxBlock are in the folder taxblock_solidity/\n",
    "\n",
    "This script compiles them all together and creates an interface which we can use to instantiate individual contracts.\n",
    "\n",
    "The _test_contracts_ module calls in python wrappers from the taxblock/ folder, which contains helpful wrappers of some of the common ethereum functions we learned in class. This abstraction allows for a simpler notebook."
   ]
  },
  {
   "cell_type": "code",
   "execution_count": 1,
   "metadata": {},
   "outputs": [
    {
     "name": "stdout",
     "output_type": "stream",
     "text": [
      "Loading contract 'Named'\n",
      "Loading contract 'Owned'\n",
      "Loading contract 'Authorized'\n",
      "Loading contract 'TaxAuthority'\n",
      "Loading contract 'Taxed'\n",
      "Loading contract 'Traded'\n",
      "Loading contract 'Property'\n",
      "Loading contract 'TaxBill'\n",
      "Loading contract 'Authorized'\n",
      "Loading contract 'Offer'\n",
      "\n",
      "Compiling...\n",
      "Success!\n"
     ]
    }
   ],
   "source": [
    "from test_contracts import source, interface"
   ]
  },
  {
   "cell_type": "code",
   "execution_count": 2,
   "metadata": {},
   "outputs": [
    {
     "name": "stdout",
     "output_type": "stream",
     "text": [
      "There are 10 accounts. Let's assign them:\n",
      "    0x7E5F4552091A69125d5DfCb7b8C2659029395Bdf default: me\n",
      "    0x2B5AD5c4795c026514f8317c7a215E218DcCD6cF joe\n",
      "    0x6813Eb9362372EEF6200f3b1dbC3f819671cBA69 bob\n",
      "    0x1efF47bc3a10a45D4B230B5d10E37751FE6AA718 steve\n",
      "    0xe1AB8145F7E55DC933d51a18c793F901A3A0b276 bill\n",
      "    0xE57bFE9F44b819898F47BF37E5AF72a0783e1141 alice\n",
      "    0xd41c057fd1c78805AAC12B0A94a405c0461A6FBb jane\n",
      "    0xF1F6619B38A98d6De0800F1DefC0a6399eB6d30C kathy\n",
      "    0xF7Edc8FA1eCc32967F827C9043FcAe6ba73afA5c sarah\n",
      "    0x4CCeBa2d7D2B4fdcE4304d3e09a1fea9fbEb1528 iris\n"
     ]
    }
   ],
   "source": [
    "print (\"There are %d accounts. Let's assign them:\" % len(interface.w3.eth.accounts))\n",
    "\n",
    "users = [\"me\",\"joe\",\"bob\",\"steve\",\"bill\",\"alice\",\"jane\",\"kathy\",\"sarah\",\"iris\"]\n",
    "\n",
    "universe = {\n",
    "}\n",
    "\n",
    "for i in range(len(users)):\n",
    "    universe[users[i]] = interface.w3.eth.accounts[i]    \n",
    "\n",
    "get_address = lambda x: universe[x]\n",
    "\n",
    "def get_user(x): \n",
    "    \n",
    "    for k in universe.keys():\n",
    "        if universe[k] == x:\n",
    "            return k\n",
    "        \n",
    "def print_universe():\n",
    "    for user in universe.keys():\n",
    "        user_addr = get_address(user)\n",
    "\n",
    "        assert get_user(user_addr) == user\n",
    "        is_default = \"\"\n",
    "        if user_addr == interface.w3.eth.defaultAccount:\n",
    "            is_default = \"default: \"\n",
    "        print (\"    %s %s\" % (user_addr, is_default + user))\n",
    "        \n",
    "print_universe()\n"
   ]
  },
  {
   "cell_type": "markdown",
   "metadata": {},
   "source": [
    "# 1. Creating a tax authority\n",
    "\n",
    "Anyone can create a tax authority by instantiating a TaxAuthority contract. We will call our town Bethel."
   ]
  },
  {
   "cell_type": "code",
   "execution_count": 54,
   "metadata": {},
   "outputs": [],
   "source": [
    "# Create a tax authority called bethel\n",
    "bethel = interface.instance(\n",
    "    name=\"TaxAuthority\",\n",
    "    constructor_args=[\"Bethel\".encode()]\n",
    ")\n",
    "\n",
    "universe[\"bethel tax authority\"] = bethel.address"
   ]
  },
  {
   "cell_type": "code",
   "execution_count": 55,
   "metadata": {},
   "outputs": [
    {
     "data": {
      "text/plain": [
       "'0xD24260C102B5D128cbEFA0F655E5be3c2370677C'"
      ]
     },
     "execution_count": 55,
     "metadata": {},
     "output_type": "execute_result"
    }
   ],
   "source": [
    "get_address(\"bethel tax authority\")"
   ]
  },
  {
   "cell_type": "code",
   "execution_count": 56,
   "metadata": {},
   "outputs": [
    {
     "data": {
      "text/plain": [
       "'bethel tax authority'"
      ]
     },
     "execution_count": 56,
     "metadata": {},
     "output_type": "execute_result"
    }
   ],
   "source": [
    "get_user(get_address(\"bethel tax authority\"))"
   ]
  },
  {
   "cell_type": "code",
   "execution_count": 57,
   "metadata": {
    "scrolled": true
   },
   "outputs": [
    {
     "name": "stdout",
     "output_type": "stream",
     "text": [
      "TaxBlock summary for the town of Bethel\n",
      "=======================================\n",
      "* The contract address is 0xD24260C102B5D128cbEFA0F655E5be3c2370677C\n",
      "* The owner is me\n",
      "* The tax for transferring properties is $0 per $1000 of assessed value.\n",
      "* Properties cannot be sold for 0 permille more than their assessed value.\n",
      "* Bethel has issued 0 tax bills.\n"
     ]
    }
   ],
   "source": [
    "# Convert bytes to strings and drop the remaining null characters\n",
    "bytes2str = lambda b: b.decode(\"utf-8\").rstrip('\\x00')\n",
    "\n",
    "# Print an underlined string\n",
    "def underline(msg, char=\"=\"):\n",
    "    msg_len = len(msg)\n",
    "    print (msg)\n",
    "    print (char * msg_len)\n",
    "    \n",
    "def summarize(tax_auth):\n",
    "    underline (\"TaxBlock summary for the town of %s\" \n",
    "               % bytes2str(tax_auth.functions.name().call()))\n",
    "    \n",
    "    print(\"* The contract address is %s\" % tax_auth.address)    \n",
    "    print(\"* The owner is %s\" % get_user(tax_auth.functions.owner().call())) \n",
    "    print(\"* The tax for transferring properties is $%d per $1000 of assessed value.\" % (\n",
    "        tax_auth.functions.transferTaxRate().call()\n",
    "    ))\n",
    "    print(\"* Properties cannot be sold for %d permille more than their assessed value.\" % (\n",
    "        tax_auth.functions.auditThreshold().call()\n",
    "    ))\n",
    "    print(\"* %s has issued %d tax bills.\" % (\n",
    "        bytes2str(tax_auth.functions.name().call()),\n",
    "        tax_auth.functions.taxBillCount().call()\n",
    "    ))\n",
    "    \n",
    "summarize(bethel)"
   ]
  },
  {
   "cell_type": "code",
   "execution_count": 58,
   "metadata": {},
   "outputs": [
    {
     "name": "stdout",
     "output_type": "stream",
     "text": [
      "TaxBlock summary for the town of Bethel\n",
      "=======================================\n",
      "* The contract address is 0xD24260C102B5D128cbEFA0F655E5be3c2370677C\n",
      "* The owner is me\n",
      "* The tax for transferring properties is $10 per $1000 of assessed value.\n",
      "* Properties cannot be sold for 500 permille more than their assessed value.\n",
      "* Bethel has issued 0 tax bills.\n"
     ]
    }
   ],
   "source": [
    "# Let's set the audit threshold and the transfer tax rate\n",
    "\n",
    "# - The audit threshold is used to compute the maximum allowed sale price, \n",
    "#   based on the assessed value. It is in milles of assessed value\n",
    "# - The transfer tax rate is the per mille amount charged on the sale price\n",
    "#   of each transaction\n",
    "\n",
    "bethel.functions.setAuditThreshold(500).transact()\n",
    "bethel.functions.setTransferTaxRate(10).transact()\n",
    "summarize(bethel)"
   ]
  },
  {
   "cell_type": "code",
   "execution_count": 59,
   "metadata": {},
   "outputs": [
    {
     "name": "stdout",
     "output_type": "stream",
     "text": [
      "Requirement already satisfied: qrcode in /home/jake/anaconda3/lib/python3.6/site-packages (6.0)\n",
      "Requirement already satisfied: six in /home/jake/anaconda3/lib/python3.6/site-packages (from qrcode) (1.11.0)\n",
      "\n",
      "This is the un-forgable contract address of the Bethel tax authority\n"
     ]
    },
    {
     "data": {
      "image/png": "[encoded data removed]",
      "text/plain": [
       "<qrcode.image.pil.PilImage at 0x7f9a293d8438>"
      ]
     },
     "execution_count": 59,
     "metadata": {},
     "output_type": "execute_result"
    }
   ],
   "source": [
    "# Let's make a QR code we can share with property owners. \n",
    "# We can post it on the wall at town hall to make sure that\n",
    "# they don't interact with fraudulent tax authorities.\n",
    "!pip install qrcode\n",
    "import qrcode\n",
    "\n",
    "def print_qr_code(tax_auth):\n",
    "    print (\"\")\n",
    "    print (\"This is the un-forgable contract address of the %s tax authority\"\n",
    "          % bytes2str(tax_auth.functions.name().call()))\n",
    "    return qrcode.make(tax_auth.address)\n",
    "\n",
    "print_qr_code(bethel)"
   ]
  },
  {
   "cell_type": "markdown",
   "metadata": {},
   "source": [
    "# 2. Creating properties\n",
    "\n",
    "Now that we have set up the taxauthority contract and posted the QR code on the wall, we are ready for business in the town clerk's office.\n",
    "\n",
    "When someone comes in, we need to be able to make a property for them that is controlled by our tax authority contract.\n",
    "\n",
    "Oh look, Bob, who owns four properties on Greenwood Avenue, has walked in the door. After a quick check of his paper records, we can see that he's all paid up and we're ready to create his properties in the taxblock system."
   ]
  },
  {
   "cell_type": "code",
   "execution_count": 60,
   "metadata": {},
   "outputs": [],
   "source": [
    "# Now let's make some properties\n",
    "def make_property(tax_auth, property_name):\n",
    "    tax_auth.functions.createProperty(property_name.encode()).transact()\n",
    "\n",
    "# Make the properties that bob owns.\n",
    "make_property(bethel, \"1 Greenwood Avenue\")\n",
    "make_property(bethel, \"2 Greenwood Avenue\")\n",
    "make_property(bethel, \"3 Greenwood Avenue\")\n",
    "make_property(bethel, \"4 Greenwood Avenue\")"
   ]
  },
  {
   "cell_type": "code",
   "execution_count": 108,
   "metadata": {},
   "outputs": [
    {
     "ename": "TransactionFailed",
     "evalue": "",
     "output_type": "error",
     "traceback": [
      "\u001b[0;31m---------------------------------------------------------------------------\u001b[0m",
      "\u001b[0;31mRevert\u001b[0m                                    Traceback (most recent call last)",
      "\u001b[0;32m~/anaconda3/lib/python3.6/site-packages/eth_tester/utils/formatting.py\u001b[0m in \u001b[0;36mwrapper\u001b[0;34m(*args, **kwargs)\u001b[0m\n\u001b[1;32m     84\u001b[0m             \u001b[0;32mtry\u001b[0m\u001b[0;34m:\u001b[0m\u001b[0;34m\u001b[0m\u001b[0m\n\u001b[0;32m---> 85\u001b[0;31m                 \u001b[0;32mreturn\u001b[0m \u001b[0mto_wrap\u001b[0m\u001b[0;34m(\u001b[0m\u001b[0;34m*\u001b[0m\u001b[0margs\u001b[0m\u001b[0;34m,\u001b[0m \u001b[0;34m**\u001b[0m\u001b[0mkwargs\u001b[0m\u001b[0;34m)\u001b[0m\u001b[0;34m\u001b[0m\u001b[0m\n\u001b[0m\u001b[1;32m     86\u001b[0m             \u001b[0;32mexcept\u001b[0m \u001b[0mold_exceptions\u001b[0m \u001b[0;32mas\u001b[0m \u001b[0me\u001b[0m\u001b[0;34m:\u001b[0m\u001b[0;34m\u001b[0m\u001b[0m\n",
      "\u001b[0;32m~/anaconda3/lib/python3.6/site-packages/eth_tester/backends/pyevm/main.py\u001b[0m in \u001b[0;36mestimate_gas\u001b[0;34m(self, transaction)\u001b[0m\n\u001b[1;32m    510\u001b[0m \u001b[0;34m\u001b[0m\u001b[0m\n\u001b[0;32m--> 511\u001b[0;31m         \u001b[0;32mreturn\u001b[0m \u001b[0mself\u001b[0m\u001b[0;34m.\u001b[0m\u001b[0mchain\u001b[0m\u001b[0;34m.\u001b[0m\u001b[0mestimate_gas\u001b[0m\u001b[0;34m(\u001b[0m\u001b[0mspoofed_transaction\u001b[0m\u001b[0;34m)\u001b[0m\u001b[0;34m\u001b[0m\u001b[0m\n\u001b[0m\u001b[1;32m    512\u001b[0m \u001b[0;34m\u001b[0m\u001b[0m\n",
      "\u001b[0;32m~/anaconda3/lib/python3.6/site-packages/eth/chains/base.py\u001b[0m in \u001b[0;36mestimate_gas\u001b[0;34m(self, transaction, at_header)\u001b[0m\n\u001b[1;32m    614\u001b[0m         \u001b[0;32mwith\u001b[0m \u001b[0mself\u001b[0m\u001b[0;34m.\u001b[0m\u001b[0mget_vm\u001b[0m\u001b[0;34m(\u001b[0m\u001b[0mat_header\u001b[0m\u001b[0;34m)\u001b[0m\u001b[0;34m.\u001b[0m\u001b[0mstate_in_temp_block\u001b[0m\u001b[0;34m(\u001b[0m\u001b[0;34m)\u001b[0m \u001b[0;32mas\u001b[0m \u001b[0mstate\u001b[0m\u001b[0;34m:\u001b[0m\u001b[0;34m\u001b[0m\u001b[0m\n\u001b[0;32m--> 615\u001b[0;31m             \u001b[0;32mreturn\u001b[0m \u001b[0mself\u001b[0m\u001b[0;34m.\u001b[0m\u001b[0mgas_estimator\u001b[0m\u001b[0;34m(\u001b[0m\u001b[0mstate\u001b[0m\u001b[0;34m,\u001b[0m \u001b[0mtransaction\u001b[0m\u001b[0;34m)\u001b[0m\u001b[0;34m\u001b[0m\u001b[0m\n\u001b[0m\u001b[1;32m    616\u001b[0m \u001b[0;34m\u001b[0m\u001b[0m\n",
      "\u001b[0;32m~/anaconda3/lib/python3.6/site-packages/cytoolz/functoolz.pyx\u001b[0m in \u001b[0;36mcytoolz.functoolz.curry.__call__\u001b[0;34m()\u001b[0m\n",
      "\u001b[0;32m~/anaconda3/lib/python3.6/site-packages/eth/estimators/gas.py\u001b[0m in \u001b[0;36mbinary_gas_search\u001b[0;34m(state, transaction, tolerance)\u001b[0m\n\u001b[1;32m     64\u001b[0m     \u001b[0;32mif\u001b[0m \u001b[0merror\u001b[0m \u001b[0;32mis\u001b[0m \u001b[0;32mnot\u001b[0m \u001b[0;32mNone\u001b[0m\u001b[0;34m:\u001b[0m\u001b[0;34m\u001b[0m\u001b[0m\n\u001b[0;32m---> 65\u001b[0;31m         \u001b[0;32mraise\u001b[0m \u001b[0merror\u001b[0m\u001b[0;34m\u001b[0m\u001b[0m\n\u001b[0m\u001b[1;32m     66\u001b[0m \u001b[0;34m\u001b[0m\u001b[0m\n",
      "\u001b[0;32m~/anaconda3/lib/python3.6/site-packages/eth/vm/computation.py\u001b[0m in \u001b[0;36mapply_computation\u001b[0;34m(cls, state, message, transaction_context)\u001b[0m\n\u001b[1;32m    559\u001b[0m                 \u001b[0;32mtry\u001b[0m\u001b[0;34m:\u001b[0m\u001b[0;34m\u001b[0m\u001b[0m\n\u001b[0;32m--> 560\u001b[0;31m                     \u001b[0mopcode_fn\u001b[0m\u001b[0;34m(\u001b[0m\u001b[0mcomputation\u001b[0m\u001b[0;34m=\u001b[0m\u001b[0mcomputation\u001b[0m\u001b[0;34m)\u001b[0m\u001b[0;34m\u001b[0m\u001b[0m\n\u001b[0m\u001b[1;32m    561\u001b[0m                 \u001b[0;32mexcept\u001b[0m \u001b[0mHalt\u001b[0m\u001b[0;34m:\u001b[0m\u001b[0;34m\u001b[0m\u001b[0m\n",
      "\u001b[0;32m~/anaconda3/lib/python3.6/site-packages/eth/vm/logic/system.py\u001b[0m in \u001b[0;36mrevert\u001b[0;34m(computation)\u001b[0m\n\u001b[1;32m     47\u001b[0m     \u001b[0mcomputation\u001b[0m\u001b[0;34m.\u001b[0m\u001b[0moutput\u001b[0m \u001b[0;34m=\u001b[0m \u001b[0mbytes\u001b[0m\u001b[0;34m(\u001b[0m\u001b[0moutput\u001b[0m\u001b[0;34m)\u001b[0m\u001b[0;34m\u001b[0m\u001b[0m\n\u001b[0;32m---> 48\u001b[0;31m     \u001b[0;32mraise\u001b[0m \u001b[0mRevert\u001b[0m\u001b[0;34m(\u001b[0m\u001b[0mcomputation\u001b[0m\u001b[0;34m.\u001b[0m\u001b[0moutput\u001b[0m\u001b[0;34m)\u001b[0m\u001b[0;34m\u001b[0m\u001b[0m\n\u001b[0m\u001b[1;32m     49\u001b[0m \u001b[0;34m\u001b[0m\u001b[0m\n",
      "\u001b[0;31mRevert\u001b[0m: b'\\x08\\xc3y\\xa0\\x00\\x00\\x00\\x00\\x00\\x00\\x00\\x00\\x00\\x00\\x00\\x00\\x00\\x00\\x00\\x00\\x00\\x00\\x00\\x00\\x00\\x00\\x00\\x00\\x00\\x00\\x00\\x00\\x00\\x00\\x00 \\x00\\x00\\x00\\x00\\x00\\x00\\x00\\x00\\x00\\x00\\x00\\x00\\x00\\x00\\x00\\x00\\x00\\x00\\x00\\x00\\x00\\x00\\x00\\x00\\x00\\x00\\x00\\x00\\x00\\x00\\x00\\x19Sorry, that name is taken\\x00\\x00\\x00\\x00\\x00\\x00\\x00'",
      "\nThe above exception was the direct cause of the following exception:\n",
      "\u001b[0;31mTransactionFailed\u001b[0m                         Traceback (most recent call last)",
      "\u001b[0;32m<ipython-input-108-38ad83354934>\u001b[0m in \u001b[0;36m<module>\u001b[0;34m()\u001b[0m\n\u001b[1;32m      1\u001b[0m \u001b[0;31m# NOTE: We cannot create a duplicate named property. This IS SUPPOSED TO FAIL\u001b[0m\u001b[0;34m\u001b[0m\u001b[0;34m\u001b[0m\u001b[0m\n\u001b[0;32m----> 2\u001b[0;31m \u001b[0mmake_property\u001b[0m\u001b[0;34m(\u001b[0m\u001b[0mbethel\u001b[0m\u001b[0;34m,\u001b[0m \u001b[0;34m\"1 Greenwood Avenue\"\u001b[0m\u001b[0;34m)\u001b[0m\u001b[0;34m\u001b[0m\u001b[0m\n\u001b[0m",
      "\u001b[0;32m<ipython-input-60-6febf22a27bd>\u001b[0m in \u001b[0;36mmake_property\u001b[0;34m(tax_auth, property_name)\u001b[0m\n\u001b[1;32m      1\u001b[0m \u001b[0;31m# Now let's make some properties\u001b[0m\u001b[0;34m\u001b[0m\u001b[0;34m\u001b[0m\u001b[0m\n\u001b[1;32m      2\u001b[0m \u001b[0;32mdef\u001b[0m \u001b[0mmake_property\u001b[0m\u001b[0;34m(\u001b[0m\u001b[0mtax_auth\u001b[0m\u001b[0;34m,\u001b[0m \u001b[0mproperty_name\u001b[0m\u001b[0;34m)\u001b[0m\u001b[0;34m:\u001b[0m\u001b[0;34m\u001b[0m\u001b[0m\n\u001b[0;32m----> 3\u001b[0;31m     \u001b[0mtax_auth\u001b[0m\u001b[0;34m.\u001b[0m\u001b[0mfunctions\u001b[0m\u001b[0;34m.\u001b[0m\u001b[0mcreateProperty\u001b[0m\u001b[0;34m(\u001b[0m\u001b[0mproperty_name\u001b[0m\u001b[0;34m.\u001b[0m\u001b[0mencode\u001b[0m\u001b[0;34m(\u001b[0m\u001b[0;34m)\u001b[0m\u001b[0;34m)\u001b[0m\u001b[0;34m.\u001b[0m\u001b[0mtransact\u001b[0m\u001b[0;34m(\u001b[0m\u001b[0;34m)\u001b[0m\u001b[0;34m\u001b[0m\u001b[0m\n\u001b[0m\u001b[1;32m      4\u001b[0m \u001b[0;34m\u001b[0m\u001b[0m\n\u001b[1;32m      5\u001b[0m \u001b[0;31m# Make the properties that bob owns.\u001b[0m\u001b[0;34m\u001b[0m\u001b[0;34m\u001b[0m\u001b[0m\n",
      "\u001b[0;32m~/anaconda3/lib/python3.6/site-packages/web3/contract.py\u001b[0m in \u001b[0;36mtransact\u001b[0;34m(self, transaction)\u001b[0m\n\u001b[1;32m   1149\u001b[0m             \u001b[0mself\u001b[0m\u001b[0;34m.\u001b[0m\u001b[0mabi\u001b[0m\u001b[0;34m,\u001b[0m\u001b[0;34m\u001b[0m\u001b[0m\n\u001b[1;32m   1150\u001b[0m             \u001b[0;34m*\u001b[0m\u001b[0mself\u001b[0m\u001b[0;34m.\u001b[0m\u001b[0margs\u001b[0m\u001b[0;34m,\u001b[0m\u001b[0;34m\u001b[0m\u001b[0m\n\u001b[0;32m-> 1151\u001b[0;31m             \u001b[0;34m**\u001b[0m\u001b[0mself\u001b[0m\u001b[0;34m.\u001b[0m\u001b[0mkwargs\u001b[0m\u001b[0;34m\u001b[0m\u001b[0m\n\u001b[0m\u001b[1;32m   1152\u001b[0m         )\n\u001b[1;32m   1153\u001b[0m \u001b[0;34m\u001b[0m\u001b[0m\n",
      "\u001b[0;32m~/anaconda3/lib/python3.6/site-packages/web3/contract.py\u001b[0m in \u001b[0;36mtransact_with_contract_function\u001b[0;34m(address, web3, function_name, transaction, contract_abi, fn_abi, *args, **kwargs)\u001b[0m\n\u001b[1;32m   1452\u001b[0m     )\n\u001b[1;32m   1453\u001b[0m \u001b[0;34m\u001b[0m\u001b[0m\n\u001b[0;32m-> 1454\u001b[0;31m     \u001b[0mtxn_hash\u001b[0m \u001b[0;34m=\u001b[0m \u001b[0mweb3\u001b[0m\u001b[0;34m.\u001b[0m\u001b[0meth\u001b[0m\u001b[0;34m.\u001b[0m\u001b[0msendTransaction\u001b[0m\u001b[0;34m(\u001b[0m\u001b[0mtransact_transaction\u001b[0m\u001b[0;34m)\u001b[0m\u001b[0;34m\u001b[0m\u001b[0m\n\u001b[0m\u001b[1;32m   1455\u001b[0m     \u001b[0;32mreturn\u001b[0m \u001b[0mtxn_hash\u001b[0m\u001b[0;34m\u001b[0m\u001b[0m\n\u001b[1;32m   1456\u001b[0m \u001b[0;34m\u001b[0m\u001b[0m\n",
      "\u001b[0;32m~/anaconda3/lib/python3.6/site-packages/web3/eth.py\u001b[0m in \u001b[0;36msendTransaction\u001b[0;34m(self, transaction)\u001b[0m\n\u001b[1;32m    261\u001b[0m                 \u001b[0mtransaction\u001b[0m\u001b[0;34m,\u001b[0m\u001b[0;34m\u001b[0m\u001b[0m\n\u001b[1;32m    262\u001b[0m                 \u001b[0;34m'gas'\u001b[0m\u001b[0;34m,\u001b[0m\u001b[0;34m\u001b[0m\u001b[0m\n\u001b[0;32m--> 263\u001b[0;31m                 \u001b[0mget_buffered_gas_estimate\u001b[0m\u001b[0;34m(\u001b[0m\u001b[0mself\u001b[0m\u001b[0;34m.\u001b[0m\u001b[0mweb3\u001b[0m\u001b[0;34m,\u001b[0m \u001b[0mtransaction\u001b[0m\u001b[0;34m)\u001b[0m\u001b[0;34m,\u001b[0m\u001b[0;34m\u001b[0m\u001b[0m\n\u001b[0m\u001b[1;32m    264\u001b[0m             )\n\u001b[1;32m    265\u001b[0m \u001b[0;34m\u001b[0m\u001b[0m\n",
      "\u001b[0;32m~/anaconda3/lib/python3.6/site-packages/web3/utils/transactions.py\u001b[0m in \u001b[0;36mget_buffered_gas_estimate\u001b[0;34m(web3, transaction, gas_buffer)\u001b[0m\n\u001b[1;32m     82\u001b[0m     \u001b[0mgas_estimate_transaction\u001b[0m \u001b[0;34m=\u001b[0m \u001b[0mdict\u001b[0m\u001b[0;34m(\u001b[0m\u001b[0;34m**\u001b[0m\u001b[0mtransaction\u001b[0m\u001b[0;34m)\u001b[0m\u001b[0;34m\u001b[0m\u001b[0m\n\u001b[1;32m     83\u001b[0m \u001b[0;34m\u001b[0m\u001b[0m\n\u001b[0;32m---> 84\u001b[0;31m     \u001b[0mgas_estimate\u001b[0m \u001b[0;34m=\u001b[0m \u001b[0mweb3\u001b[0m\u001b[0;34m.\u001b[0m\u001b[0meth\u001b[0m\u001b[0;34m.\u001b[0m\u001b[0mestimateGas\u001b[0m\u001b[0;34m(\u001b[0m\u001b[0mgas_estimate_transaction\u001b[0m\u001b[0;34m)\u001b[0m\u001b[0;34m\u001b[0m\u001b[0m\n\u001b[0m\u001b[1;32m     85\u001b[0m \u001b[0;34m\u001b[0m\u001b[0m\n\u001b[1;32m     86\u001b[0m     \u001b[0mgas_limit\u001b[0m \u001b[0;34m=\u001b[0m \u001b[0mget_block_gas_limit\u001b[0m\u001b[0;34m(\u001b[0m\u001b[0mweb3\u001b[0m\u001b[0;34m)\u001b[0m\u001b[0;34m\u001b[0m\u001b[0m\n",
      "\u001b[0;32m~/anaconda3/lib/python3.6/site-packages/web3/eth.py\u001b[0m in \u001b[0;36mestimateGas\u001b[0;34m(self, transaction)\u001b[0m\n\u001b[1;32m    302\u001b[0m         return self.web3.manager.request_blocking(\n\u001b[1;32m    303\u001b[0m             \u001b[0;34m\"eth_estimateGas\"\u001b[0m\u001b[0;34m,\u001b[0m\u001b[0;34m\u001b[0m\u001b[0m\n\u001b[0;32m--> 304\u001b[0;31m             \u001b[0;34m[\u001b[0m\u001b[0mtransaction\u001b[0m\u001b[0;34m]\u001b[0m\u001b[0;34m,\u001b[0m\u001b[0;34m\u001b[0m\u001b[0m\n\u001b[0m\u001b[1;32m    305\u001b[0m         )\n\u001b[1;32m    306\u001b[0m \u001b[0;34m\u001b[0m\u001b[0m\n",
      "\u001b[0;32m~/anaconda3/lib/python3.6/site-packages/web3/manager.py\u001b[0m in \u001b[0;36mrequest_blocking\u001b[0;34m(self, method, params)\u001b[0m\n\u001b[1;32m    107\u001b[0m         \u001b[0mMake\u001b[0m \u001b[0ma\u001b[0m \u001b[0msynchronous\u001b[0m \u001b[0mrequest\u001b[0m \u001b[0musing\u001b[0m \u001b[0mthe\u001b[0m \u001b[0mprovider\u001b[0m\u001b[0;34m\u001b[0m\u001b[0m\n\u001b[1;32m    108\u001b[0m         \"\"\"\n\u001b[0;32m--> 109\u001b[0;31m         \u001b[0mresponse\u001b[0m \u001b[0;34m=\u001b[0m \u001b[0mself\u001b[0m\u001b[0;34m.\u001b[0m\u001b[0m_make_request\u001b[0m\u001b[0;34m(\u001b[0m\u001b[0mmethod\u001b[0m\u001b[0;34m,\u001b[0m \u001b[0mparams\u001b[0m\u001b[0;34m)\u001b[0m\u001b[0;34m\u001b[0m\u001b[0m\n\u001b[0m\u001b[1;32m    110\u001b[0m \u001b[0;34m\u001b[0m\u001b[0m\n\u001b[1;32m    111\u001b[0m         \u001b[0;32mif\u001b[0m \u001b[0;34m\"error\"\u001b[0m \u001b[0;32min\u001b[0m \u001b[0mresponse\u001b[0m\u001b[0;34m:\u001b[0m\u001b[0;34m\u001b[0m\u001b[0m\n",
      "\u001b[0;32m~/anaconda3/lib/python3.6/site-packages/web3/manager.py\u001b[0m in \u001b[0;36m_make_request\u001b[0;34m(self, method, params)\u001b[0m\n\u001b[1;32m     90\u001b[0m             \u001b[0mself\u001b[0m\u001b[0;34m.\u001b[0m\u001b[0mlogger\u001b[0m\u001b[0;34m.\u001b[0m\u001b[0mdebug\u001b[0m\u001b[0;34m(\u001b[0m\u001b[0;34m\"Making request. Method: %s\"\u001b[0m\u001b[0;34m,\u001b[0m \u001b[0mmethod\u001b[0m\u001b[0;34m)\u001b[0m\u001b[0;34m\u001b[0m\u001b[0m\n\u001b[1;32m     91\u001b[0m             \u001b[0;32mtry\u001b[0m\u001b[0;34m:\u001b[0m\u001b[0;34m\u001b[0m\u001b[0m\n\u001b[0;32m---> 92\u001b[0;31m                 \u001b[0;32mreturn\u001b[0m \u001b[0mrequest_func\u001b[0m\u001b[0;34m(\u001b[0m\u001b[0mmethod\u001b[0m\u001b[0;34m,\u001b[0m \u001b[0mparams\u001b[0m\u001b[0;34m)\u001b[0m\u001b[0;34m\u001b[0m\u001b[0m\n\u001b[0m\u001b[1;32m     93\u001b[0m             \u001b[0;32mexcept\u001b[0m \u001b[0mCannotHandleRequest\u001b[0m\u001b[0;34m:\u001b[0m\u001b[0;34m\u001b[0m\u001b[0m\n\u001b[1;32m     94\u001b[0m                 \u001b[0;32mcontinue\u001b[0m\u001b[0;34m\u001b[0m\u001b[0m\n",
      "\u001b[0;32m~/anaconda3/lib/python3.6/site-packages/cytoolz/functoolz.pyx\u001b[0m in \u001b[0;36mcytoolz.functoolz.curry.__call__\u001b[0;34m()\u001b[0m\n",
      "\u001b[0;32m~/anaconda3/lib/python3.6/site-packages/web3/middleware/formatting.py\u001b[0m in \u001b[0;36mapply_formatters\u001b[0;34m(method, params, make_request, request_formatters, result_formatters, error_formatters)\u001b[0m\n\u001b[1;32m     48\u001b[0m         \u001b[0mresponse\u001b[0m \u001b[0;34m=\u001b[0m \u001b[0mmake_request\u001b[0m\u001b[0;34m(\u001b[0m\u001b[0mmethod\u001b[0m\u001b[0;34m,\u001b[0m \u001b[0mformatted_params\u001b[0m\u001b[0;34m)\u001b[0m\u001b[0;34m\u001b[0m\u001b[0m\n\u001b[1;32m     49\u001b[0m     \u001b[0;32melse\u001b[0m\u001b[0;34m:\u001b[0m\u001b[0;34m\u001b[0m\u001b[0m\n\u001b[0;32m---> 50\u001b[0;31m         \u001b[0mresponse\u001b[0m \u001b[0;34m=\u001b[0m \u001b[0mmake_request\u001b[0m\u001b[0;34m(\u001b[0m\u001b[0mmethod\u001b[0m\u001b[0;34m,\u001b[0m \u001b[0mparams\u001b[0m\u001b[0;34m)\u001b[0m\u001b[0;34m\u001b[0m\u001b[0m\n\u001b[0m\u001b[1;32m     51\u001b[0m \u001b[0;34m\u001b[0m\u001b[0m\n\u001b[1;32m     52\u001b[0m     \u001b[0;32mif\u001b[0m \u001b[0;34m'result'\u001b[0m \u001b[0;32min\u001b[0m \u001b[0mresponse\u001b[0m \u001b[0;32mand\u001b[0m \u001b[0mmethod\u001b[0m \u001b[0;32min\u001b[0m \u001b[0mresult_formatters\u001b[0m\u001b[0;34m:\u001b[0m\u001b[0;34m\u001b[0m\u001b[0m\n",
      "\u001b[0;32m~/anaconda3/lib/python3.6/site-packages/web3/middleware/gas_price_strategy.py\u001b[0m in \u001b[0;36mmiddleware\u001b[0;34m(method, params)\u001b[0m\n\u001b[1;32m     16\u001b[0m                     \u001b[0mtransaction\u001b[0m \u001b[0;34m=\u001b[0m \u001b[0massoc\u001b[0m\u001b[0;34m(\u001b[0m\u001b[0mtransaction\u001b[0m\u001b[0;34m,\u001b[0m \u001b[0;34m'gasPrice'\u001b[0m\u001b[0;34m,\u001b[0m \u001b[0mgenerated_gas_price\u001b[0m\u001b[0;34m)\u001b[0m\u001b[0;34m\u001b[0m\u001b[0m\n\u001b[1;32m     17\u001b[0m                     \u001b[0;32mreturn\u001b[0m \u001b[0mmake_request\u001b[0m\u001b[0;34m(\u001b[0m\u001b[0mmethod\u001b[0m\u001b[0;34m,\u001b[0m \u001b[0;34m[\u001b[0m\u001b[0mtransaction\u001b[0m\u001b[0;34m]\u001b[0m\u001b[0;34m)\u001b[0m\u001b[0;34m\u001b[0m\u001b[0m\n\u001b[0;32m---> 18\u001b[0;31m         \u001b[0;32mreturn\u001b[0m \u001b[0mmake_request\u001b[0m\u001b[0;34m(\u001b[0m\u001b[0mmethod\u001b[0m\u001b[0;34m,\u001b[0m \u001b[0mparams\u001b[0m\u001b[0;34m)\u001b[0m\u001b[0;34m\u001b[0m\u001b[0m\n\u001b[0m\u001b[1;32m     19\u001b[0m     \u001b[0;32mreturn\u001b[0m \u001b[0mmiddleware\u001b[0m\u001b[0;34m\u001b[0m\u001b[0m\n",
      "\u001b[0;32m~/anaconda3/lib/python3.6/site-packages/cytoolz/functoolz.pyx\u001b[0m in \u001b[0;36mcytoolz.functoolz.curry.__call__\u001b[0;34m()\u001b[0m\n",
      "\u001b[0;32m~/anaconda3/lib/python3.6/site-packages/web3/middleware/formatting.py\u001b[0m in \u001b[0;36mapply_formatters\u001b[0;34m(method, params, make_request, request_formatters, result_formatters, error_formatters)\u001b[0m\n\u001b[1;32m     46\u001b[0m         \u001b[0mformatter\u001b[0m \u001b[0;34m=\u001b[0m \u001b[0mrequest_formatters\u001b[0m\u001b[0;34m[\u001b[0m\u001b[0mmethod\u001b[0m\u001b[0;34m]\u001b[0m\u001b[0;34m\u001b[0m\u001b[0m\n\u001b[1;32m     47\u001b[0m         \u001b[0mformatted_params\u001b[0m \u001b[0;34m=\u001b[0m \u001b[0mformatter\u001b[0m\u001b[0;34m(\u001b[0m\u001b[0mparams\u001b[0m\u001b[0;34m)\u001b[0m\u001b[0;34m\u001b[0m\u001b[0m\n\u001b[0;32m---> 48\u001b[0;31m         \u001b[0mresponse\u001b[0m \u001b[0;34m=\u001b[0m \u001b[0mmake_request\u001b[0m\u001b[0;34m(\u001b[0m\u001b[0mmethod\u001b[0m\u001b[0;34m,\u001b[0m \u001b[0mformatted_params\u001b[0m\u001b[0;34m)\u001b[0m\u001b[0;34m\u001b[0m\u001b[0m\n\u001b[0m\u001b[1;32m     49\u001b[0m     \u001b[0;32melse\u001b[0m\u001b[0;34m:\u001b[0m\u001b[0;34m\u001b[0m\u001b[0m\n\u001b[1;32m     50\u001b[0m         \u001b[0mresponse\u001b[0m \u001b[0;34m=\u001b[0m \u001b[0mmake_request\u001b[0m\u001b[0;34m(\u001b[0m\u001b[0mmethod\u001b[0m\u001b[0;34m,\u001b[0m \u001b[0mparams\u001b[0m\u001b[0;34m)\u001b[0m\u001b[0;34m\u001b[0m\u001b[0m\n",
      "\u001b[0;32m~/anaconda3/lib/python3.6/site-packages/web3/middleware/attrdict.py\u001b[0m in \u001b[0;36mmiddleware\u001b[0;34m(method, params)\u001b[0m\n\u001b[1;32m     16\u001b[0m     \"\"\"\n\u001b[1;32m     17\u001b[0m     \u001b[0;32mdef\u001b[0m \u001b[0mmiddleware\u001b[0m\u001b[0;34m(\u001b[0m\u001b[0mmethod\u001b[0m\u001b[0;34m,\u001b[0m \u001b[0mparams\u001b[0m\u001b[0;34m)\u001b[0m\u001b[0;34m:\u001b[0m\u001b[0;34m\u001b[0m\u001b[0m\n\u001b[0;32m---> 18\u001b[0;31m         \u001b[0mresponse\u001b[0m \u001b[0;34m=\u001b[0m \u001b[0mmake_request\u001b[0m\u001b[0;34m(\u001b[0m\u001b[0mmethod\u001b[0m\u001b[0;34m,\u001b[0m \u001b[0mparams\u001b[0m\u001b[0;34m)\u001b[0m\u001b[0;34m\u001b[0m\u001b[0m\n\u001b[0m\u001b[1;32m     19\u001b[0m \u001b[0;34m\u001b[0m\u001b[0m\n\u001b[1;32m     20\u001b[0m         \u001b[0;32mif\u001b[0m \u001b[0;34m'result'\u001b[0m \u001b[0;32min\u001b[0m \u001b[0mresponse\u001b[0m\u001b[0;34m:\u001b[0m\u001b[0;34m\u001b[0m\u001b[0m\n",
      "\u001b[0;32m~/anaconda3/lib/python3.6/site-packages/cytoolz/functoolz.pyx\u001b[0m in \u001b[0;36mcytoolz.functoolz.curry.__call__\u001b[0;34m()\u001b[0m\n",
      "\u001b[0;32m~/anaconda3/lib/python3.6/site-packages/web3/middleware/formatting.py\u001b[0m in \u001b[0;36mapply_formatters\u001b[0;34m(method, params, make_request, request_formatters, result_formatters, error_formatters)\u001b[0m\n\u001b[1;32m     46\u001b[0m         \u001b[0mformatter\u001b[0m \u001b[0;34m=\u001b[0m \u001b[0mrequest_formatters\u001b[0m\u001b[0;34m[\u001b[0m\u001b[0mmethod\u001b[0m\u001b[0;34m]\u001b[0m\u001b[0;34m\u001b[0m\u001b[0m\n\u001b[1;32m     47\u001b[0m         \u001b[0mformatted_params\u001b[0m \u001b[0;34m=\u001b[0m \u001b[0mformatter\u001b[0m\u001b[0;34m(\u001b[0m\u001b[0mparams\u001b[0m\u001b[0;34m)\u001b[0m\u001b[0;34m\u001b[0m\u001b[0m\n\u001b[0;32m---> 48\u001b[0;31m         \u001b[0mresponse\u001b[0m \u001b[0;34m=\u001b[0m \u001b[0mmake_request\u001b[0m\u001b[0;34m(\u001b[0m\u001b[0mmethod\u001b[0m\u001b[0;34m,\u001b[0m \u001b[0mformatted_params\u001b[0m\u001b[0;34m)\u001b[0m\u001b[0;34m\u001b[0m\u001b[0m\n\u001b[0m\u001b[1;32m     49\u001b[0m     \u001b[0;32melse\u001b[0m\u001b[0;34m:\u001b[0m\u001b[0;34m\u001b[0m\u001b[0m\n\u001b[1;32m     50\u001b[0m         \u001b[0mresponse\u001b[0m \u001b[0;34m=\u001b[0m \u001b[0mmake_request\u001b[0m\u001b[0;34m(\u001b[0m\u001b[0mmethod\u001b[0m\u001b[0;34m,\u001b[0m \u001b[0mparams\u001b[0m\u001b[0;34m)\u001b[0m\u001b[0;34m\u001b[0m\u001b[0m\n",
      "\u001b[0;32m~/anaconda3/lib/python3.6/site-packages/web3/middleware/normalize_errors.py\u001b[0m in \u001b[0;36mmiddleware\u001b[0;34m(method, params)\u001b[0m\n\u001b[1;32m      7\u001b[0m \u001b[0;32mdef\u001b[0m \u001b[0mnormalize_errors_middleware\u001b[0m\u001b[0;34m(\u001b[0m\u001b[0mmake_request\u001b[0m\u001b[0;34m,\u001b[0m \u001b[0mweb3\u001b[0m\u001b[0;34m)\u001b[0m\u001b[0;34m:\u001b[0m\u001b[0;34m\u001b[0m\u001b[0m\n\u001b[1;32m      8\u001b[0m     \u001b[0;32mdef\u001b[0m \u001b[0mmiddleware\u001b[0m\u001b[0;34m(\u001b[0m\u001b[0mmethod\u001b[0m\u001b[0;34m,\u001b[0m \u001b[0mparams\u001b[0m\u001b[0;34m)\u001b[0m\u001b[0;34m:\u001b[0m\u001b[0;34m\u001b[0m\u001b[0m\n\u001b[0;32m----> 9\u001b[0;31m         \u001b[0mresult\u001b[0m \u001b[0;34m=\u001b[0m \u001b[0mmake_request\u001b[0m\u001b[0;34m(\u001b[0m\u001b[0mmethod\u001b[0m\u001b[0;34m,\u001b[0m \u001b[0mparams\u001b[0m\u001b[0;34m)\u001b[0m\u001b[0;34m\u001b[0m\u001b[0m\n\u001b[0m\u001b[1;32m     10\u001b[0m \u001b[0;34m\u001b[0m\u001b[0m\n\u001b[1;32m     11\u001b[0m         \u001b[0;31m# As of v1.8, Geth returns errors when you request a\u001b[0m\u001b[0;34m\u001b[0m\u001b[0;34m\u001b[0m\u001b[0m\n",
      "\u001b[0;32m~/anaconda3/lib/python3.6/site-packages/cytoolz/functoolz.pyx\u001b[0m in \u001b[0;36mcytoolz.functoolz.curry.__call__\u001b[0;34m()\u001b[0m\n",
      "\u001b[0;32m~/anaconda3/lib/python3.6/site-packages/web3/middleware/formatting.py\u001b[0m in \u001b[0;36mapply_formatters\u001b[0;34m(method, params, make_request, request_formatters, result_formatters, error_formatters)\u001b[0m\n\u001b[1;32m     46\u001b[0m         \u001b[0mformatter\u001b[0m \u001b[0;34m=\u001b[0m \u001b[0mrequest_formatters\u001b[0m\u001b[0;34m[\u001b[0m\u001b[0mmethod\u001b[0m\u001b[0;34m]\u001b[0m\u001b[0;34m\u001b[0m\u001b[0m\n\u001b[1;32m     47\u001b[0m         \u001b[0mformatted_params\u001b[0m \u001b[0;34m=\u001b[0m \u001b[0mformatter\u001b[0m\u001b[0;34m(\u001b[0m\u001b[0mparams\u001b[0m\u001b[0;34m)\u001b[0m\u001b[0;34m\u001b[0m\u001b[0m\n\u001b[0;32m---> 48\u001b[0;31m         \u001b[0mresponse\u001b[0m \u001b[0;34m=\u001b[0m \u001b[0mmake_request\u001b[0m\u001b[0;34m(\u001b[0m\u001b[0mmethod\u001b[0m\u001b[0;34m,\u001b[0m \u001b[0mformatted_params\u001b[0m\u001b[0;34m)\u001b[0m\u001b[0;34m\u001b[0m\u001b[0m\n\u001b[0m\u001b[1;32m     49\u001b[0m     \u001b[0;32melse\u001b[0m\u001b[0;34m:\u001b[0m\u001b[0;34m\u001b[0m\u001b[0m\n\u001b[1;32m     50\u001b[0m         \u001b[0mresponse\u001b[0m \u001b[0;34m=\u001b[0m \u001b[0mmake_request\u001b[0m\u001b[0;34m(\u001b[0m\u001b[0mmethod\u001b[0m\u001b[0;34m,\u001b[0m \u001b[0mparams\u001b[0m\u001b[0;34m)\u001b[0m\u001b[0;34m\u001b[0m\u001b[0m\n",
      "\u001b[0;32m~/anaconda3/lib/python3.6/site-packages/cytoolz/functoolz.pyx\u001b[0m in \u001b[0;36mcytoolz.functoolz.curry.__call__\u001b[0;34m()\u001b[0m\n",
      "\u001b[0;32m~/anaconda3/lib/python3.6/site-packages/web3/middleware/formatting.py\u001b[0m in \u001b[0;36mapply_formatters\u001b[0;34m(method, params, make_request, request_formatters, result_formatters, error_formatters)\u001b[0m\n\u001b[1;32m     46\u001b[0m         \u001b[0mformatter\u001b[0m \u001b[0;34m=\u001b[0m \u001b[0mrequest_formatters\u001b[0m\u001b[0;34m[\u001b[0m\u001b[0mmethod\u001b[0m\u001b[0;34m]\u001b[0m\u001b[0;34m\u001b[0m\u001b[0m\n\u001b[1;32m     47\u001b[0m         \u001b[0mformatted_params\u001b[0m \u001b[0;34m=\u001b[0m \u001b[0mformatter\u001b[0m\u001b[0;34m(\u001b[0m\u001b[0mparams\u001b[0m\u001b[0;34m)\u001b[0m\u001b[0;34m\u001b[0m\u001b[0m\n\u001b[0;32m---> 48\u001b[0;31m         \u001b[0mresponse\u001b[0m \u001b[0;34m=\u001b[0m \u001b[0mmake_request\u001b[0m\u001b[0;34m(\u001b[0m\u001b[0mmethod\u001b[0m\u001b[0;34m,\u001b[0m \u001b[0mformatted_params\u001b[0m\u001b[0;34m)\u001b[0m\u001b[0;34m\u001b[0m\u001b[0m\n\u001b[0m\u001b[1;32m     49\u001b[0m     \u001b[0;32melse\u001b[0m\u001b[0;34m:\u001b[0m\u001b[0;34m\u001b[0m\u001b[0m\n\u001b[1;32m     50\u001b[0m         \u001b[0mresponse\u001b[0m \u001b[0;34m=\u001b[0m \u001b[0mmake_request\u001b[0m\u001b[0;34m(\u001b[0m\u001b[0mmethod\u001b[0m\u001b[0;34m,\u001b[0m \u001b[0mparams\u001b[0m\u001b[0;34m)\u001b[0m\u001b[0;34m\u001b[0m\u001b[0m\n",
      "\u001b[0;32m~/anaconda3/lib/python3.6/site-packages/web3/providers/eth_tester/middleware.py\u001b[0m in \u001b[0;36mmiddleware\u001b[0;34m(method, params)\u001b[0m\n\u001b[1;32m    322\u001b[0m                 \u001b[0mfill_default_from\u001b[0m\u001b[0;34m,\u001b[0m\u001b[0;34m\u001b[0m\u001b[0m\n\u001b[1;32m    323\u001b[0m             )\n\u001b[0;32m--> 324\u001b[0;31m             \u001b[0;32mreturn\u001b[0m \u001b[0mmake_request\u001b[0m\u001b[0;34m(\u001b[0m\u001b[0mmethod\u001b[0m\u001b[0;34m,\u001b[0m \u001b[0;34m[\u001b[0m\u001b[0mfilled_transaction\u001b[0m\u001b[0;34m]\u001b[0m \u001b[0;34m+\u001b[0m \u001b[0mparams\u001b[0m\u001b[0;34m[\u001b[0m\u001b[0;36m1\u001b[0m\u001b[0;34m:\u001b[0m\u001b[0;34m]\u001b[0m\u001b[0;34m)\u001b[0m\u001b[0;34m\u001b[0m\u001b[0m\n\u001b[0m\u001b[1;32m    325\u001b[0m         \u001b[0;32melse\u001b[0m\u001b[0;34m:\u001b[0m\u001b[0;34m\u001b[0m\u001b[0m\n\u001b[1;32m    326\u001b[0m             \u001b[0;32mreturn\u001b[0m \u001b[0mmake_request\u001b[0m\u001b[0;34m(\u001b[0m\u001b[0mmethod\u001b[0m\u001b[0;34m,\u001b[0m \u001b[0mparams\u001b[0m\u001b[0;34m)\u001b[0m\u001b[0;34m\u001b[0m\u001b[0m\n",
      "\u001b[0;32m~/anaconda3/lib/python3.6/site-packages/web3/middleware/fixture.py\u001b[0m in \u001b[0;36mmiddleware\u001b[0;34m(method, params)\u001b[0m\n\u001b[1;32m     10\u001b[0m                 \u001b[0;32mreturn\u001b[0m \u001b[0;34m{\u001b[0m\u001b[0;34m'result'\u001b[0m\u001b[0;34m:\u001b[0m \u001b[0mresult\u001b[0m\u001b[0;34m}\u001b[0m\u001b[0;34m\u001b[0m\u001b[0m\n\u001b[1;32m     11\u001b[0m             \u001b[0;32melse\u001b[0m\u001b[0;34m:\u001b[0m\u001b[0;34m\u001b[0m\u001b[0m\n\u001b[0;32m---> 12\u001b[0;31m                 \u001b[0;32mreturn\u001b[0m \u001b[0mmake_request\u001b[0m\u001b[0;34m(\u001b[0m\u001b[0mmethod\u001b[0m\u001b[0;34m,\u001b[0m \u001b[0mparams\u001b[0m\u001b[0;34m)\u001b[0m\u001b[0;34m\u001b[0m\u001b[0m\n\u001b[0m\u001b[1;32m     13\u001b[0m         \u001b[0;32mreturn\u001b[0m \u001b[0mmiddleware\u001b[0m\u001b[0;34m\u001b[0m\u001b[0m\n\u001b[1;32m     14\u001b[0m     \u001b[0;32mreturn\u001b[0m \u001b[0mfixture_middleware\u001b[0m\u001b[0;34m\u001b[0m\u001b[0m\n",
      "\u001b[0;32m~/anaconda3/lib/python3.6/site-packages/cytoolz/functoolz.pyx\u001b[0m in \u001b[0;36mcytoolz.functoolz.curry.__call__\u001b[0;34m()\u001b[0m\n",
      "\u001b[0;32m~/anaconda3/lib/python3.6/site-packages/web3/middleware/formatting.py\u001b[0m in \u001b[0;36mapply_formatters\u001b[0;34m(method, params, make_request, request_formatters, result_formatters, error_formatters)\u001b[0m\n\u001b[1;32m     46\u001b[0m         \u001b[0mformatter\u001b[0m \u001b[0;34m=\u001b[0m \u001b[0mrequest_formatters\u001b[0m\u001b[0;34m[\u001b[0m\u001b[0mmethod\u001b[0m\u001b[0;34m]\u001b[0m\u001b[0;34m\u001b[0m\u001b[0m\n\u001b[1;32m     47\u001b[0m         \u001b[0mformatted_params\u001b[0m \u001b[0;34m=\u001b[0m \u001b[0mformatter\u001b[0m\u001b[0;34m(\u001b[0m\u001b[0mparams\u001b[0m\u001b[0;34m)\u001b[0m\u001b[0;34m\u001b[0m\u001b[0m\n\u001b[0;32m---> 48\u001b[0;31m         \u001b[0mresponse\u001b[0m \u001b[0;34m=\u001b[0m \u001b[0mmake_request\u001b[0m\u001b[0;34m(\u001b[0m\u001b[0mmethod\u001b[0m\u001b[0;34m,\u001b[0m \u001b[0mformatted_params\u001b[0m\u001b[0;34m)\u001b[0m\u001b[0;34m\u001b[0m\u001b[0m\n\u001b[0m\u001b[1;32m     49\u001b[0m     \u001b[0;32melse\u001b[0m\u001b[0;34m:\u001b[0m\u001b[0;34m\u001b[0m\u001b[0m\n\u001b[1;32m     50\u001b[0m         \u001b[0mresponse\u001b[0m \u001b[0;34m=\u001b[0m \u001b[0mmake_request\u001b[0m\u001b[0;34m(\u001b[0m\u001b[0mmethod\u001b[0m\u001b[0;34m,\u001b[0m \u001b[0mparams\u001b[0m\u001b[0;34m)\u001b[0m\u001b[0;34m\u001b[0m\u001b[0m\n",
      "\u001b[0;32m~/anaconda3/lib/python3.6/site-packages/web3/providers/eth_tester/main.py\u001b[0m in \u001b[0;36mmake_request\u001b[0;34m(self, method, params)\u001b[0m\n\u001b[1;32m     44\u001b[0m \u001b[0;34m\u001b[0m\u001b[0m\n\u001b[1;32m     45\u001b[0m         \u001b[0;32mtry\u001b[0m\u001b[0;34m:\u001b[0m\u001b[0;34m\u001b[0m\u001b[0m\n\u001b[0;32m---> 46\u001b[0;31m             \u001b[0mresponse\u001b[0m \u001b[0;34m=\u001b[0m \u001b[0mdelegator\u001b[0m\u001b[0;34m(\u001b[0m\u001b[0mself\u001b[0m\u001b[0;34m.\u001b[0m\u001b[0methereum_tester\u001b[0m\u001b[0;34m,\u001b[0m \u001b[0mparams\u001b[0m\u001b[0;34m)\u001b[0m\u001b[0;34m\u001b[0m\u001b[0m\n\u001b[0m\u001b[1;32m     47\u001b[0m         \u001b[0;32mexcept\u001b[0m \u001b[0mNotImplementedError\u001b[0m\u001b[0;34m:\u001b[0m\u001b[0;34m\u001b[0m\u001b[0m\n\u001b[1;32m     48\u001b[0m             return {\n",
      "\u001b[0;32m~/anaconda3/lib/python3.6/site-packages/cytoolz/functoolz.pyx\u001b[0m in \u001b[0;36mcytoolz.functoolz.curry.__call__\u001b[0;34m()\u001b[0m\n",
      "\u001b[0;32m~/anaconda3/lib/python3.6/site-packages/web3/providers/eth_tester/defaults.py\u001b[0m in \u001b[0;36mcall_eth_tester\u001b[0;34m(fn_name, eth_tester, fn_args, fn_kwargs)\u001b[0m\n\u001b[1;32m     34\u001b[0m     \u001b[0;32mif\u001b[0m \u001b[0mfn_kwargs\u001b[0m \u001b[0;32mis\u001b[0m \u001b[0;32mNone\u001b[0m\u001b[0;34m:\u001b[0m\u001b[0;34m\u001b[0m\u001b[0m\n\u001b[1;32m     35\u001b[0m         \u001b[0mfn_kwargs\u001b[0m \u001b[0;34m=\u001b[0m \u001b[0;34m{\u001b[0m\u001b[0;34m}\u001b[0m\u001b[0;34m\u001b[0m\u001b[0m\n\u001b[0;32m---> 36\u001b[0;31m     \u001b[0;32mreturn\u001b[0m \u001b[0mgetattr\u001b[0m\u001b[0;34m(\u001b[0m\u001b[0meth_tester\u001b[0m\u001b[0;34m,\u001b[0m \u001b[0mfn_name\u001b[0m\u001b[0;34m)\u001b[0m\u001b[0;34m(\u001b[0m\u001b[0;34m*\u001b[0m\u001b[0mfn_args\u001b[0m\u001b[0;34m,\u001b[0m \u001b[0;34m**\u001b[0m\u001b[0mfn_kwargs\u001b[0m\u001b[0;34m)\u001b[0m\u001b[0;34m\u001b[0m\u001b[0m\n\u001b[0m\u001b[1;32m     37\u001b[0m \u001b[0;34m\u001b[0m\u001b[0m\n\u001b[1;32m     38\u001b[0m \u001b[0;34m\u001b[0m\u001b[0m\n",
      "\u001b[0;32m~/anaconda3/lib/python3.6/site-packages/eth_tester/main.py\u001b[0m in \u001b[0;36mestimate_gas\u001b[0;34m(self, transaction)\u001b[0m\n\u001b[1;32m    443\u001b[0m         \u001b[0mself\u001b[0m\u001b[0;34m.\u001b[0m\u001b[0mvalidator\u001b[0m\u001b[0;34m.\u001b[0m\u001b[0mvalidate_inbound_transaction\u001b[0m\u001b[0;34m(\u001b[0m\u001b[0mtransaction\u001b[0m\u001b[0;34m,\u001b[0m \u001b[0mtxn_type\u001b[0m\u001b[0;34m=\u001b[0m\u001b[0;34m'estimate'\u001b[0m\u001b[0;34m)\u001b[0m\u001b[0;34m\u001b[0m\u001b[0m\n\u001b[1;32m    444\u001b[0m         \u001b[0mraw_transaction\u001b[0m \u001b[0;34m=\u001b[0m \u001b[0mself\u001b[0m\u001b[0;34m.\u001b[0m\u001b[0mnormalizer\u001b[0m\u001b[0;34m.\u001b[0m\u001b[0mnormalize_inbound_transaction\u001b[0m\u001b[0;34m(\u001b[0m\u001b[0mtransaction\u001b[0m\u001b[0;34m)\u001b[0m\u001b[0;34m\u001b[0m\u001b[0m\n\u001b[0;32m--> 445\u001b[0;31m         \u001b[0mraw_gas_estimate\u001b[0m \u001b[0;34m=\u001b[0m \u001b[0mself\u001b[0m\u001b[0;34m.\u001b[0m\u001b[0mbackend\u001b[0m\u001b[0;34m.\u001b[0m\u001b[0mestimate_gas\u001b[0m\u001b[0;34m(\u001b[0m\u001b[0mraw_transaction\u001b[0m\u001b[0;34m)\u001b[0m\u001b[0;34m\u001b[0m\u001b[0m\n\u001b[0m\u001b[1;32m    446\u001b[0m         \u001b[0mself\u001b[0m\u001b[0;34m.\u001b[0m\u001b[0mvalidator\u001b[0m\u001b[0;34m.\u001b[0m\u001b[0mvalidate_outbound_gas_estimate\u001b[0m\u001b[0;34m(\u001b[0m\u001b[0mraw_gas_estimate\u001b[0m\u001b[0;34m)\u001b[0m\u001b[0;34m\u001b[0m\u001b[0m\n\u001b[1;32m    447\u001b[0m         \u001b[0mgas_estimate\u001b[0m \u001b[0;34m=\u001b[0m \u001b[0mself\u001b[0m\u001b[0;34m.\u001b[0m\u001b[0mnormalizer\u001b[0m\u001b[0;34m.\u001b[0m\u001b[0mnormalize_outbound_gas_estimate\u001b[0m\u001b[0;34m(\u001b[0m\u001b[0mraw_gas_estimate\u001b[0m\u001b[0;34m)\u001b[0m\u001b[0;34m\u001b[0m\u001b[0m\n",
      "\u001b[0;32m~/anaconda3/lib/python3.6/site-packages/eth_tester/utils/formatting.py\u001b[0m in \u001b[0;36mwrapper\u001b[0;34m(*args, **kwargs)\u001b[0m\n\u001b[1;32m     86\u001b[0m             \u001b[0;32mexcept\u001b[0m \u001b[0mold_exceptions\u001b[0m \u001b[0;32mas\u001b[0m \u001b[0me\u001b[0m\u001b[0;34m:\u001b[0m\u001b[0;34m\u001b[0m\u001b[0m\n\u001b[1;32m     87\u001b[0m                 \u001b[0;32mtry\u001b[0m\u001b[0;34m:\u001b[0m\u001b[0;34m\u001b[0m\u001b[0m\n\u001b[0;32m---> 88\u001b[0;31m                     \u001b[0;32mraise\u001b[0m \u001b[0mold_to_new_exceptions\u001b[0m\u001b[0;34m[\u001b[0m\u001b[0mtype\u001b[0m\u001b[0;34m(\u001b[0m\u001b[0me\u001b[0m\u001b[0;34m)\u001b[0m\u001b[0;34m]\u001b[0m \u001b[0;32mfrom\u001b[0m \u001b[0me\u001b[0m\u001b[0;34m\u001b[0m\u001b[0m\n\u001b[0m\u001b[1;32m     89\u001b[0m                 \u001b[0;32mexcept\u001b[0m \u001b[0mKeyError\u001b[0m\u001b[0;34m:\u001b[0m\u001b[0;34m\u001b[0m\u001b[0m\n\u001b[1;32m     90\u001b[0m                     \u001b[0;32mraise\u001b[0m \u001b[0mTypeError\u001b[0m\u001b[0;34m(\u001b[0m\u001b[0;34m\"could not look up new exception to use for %r\"\u001b[0m \u001b[0;34m%\u001b[0m \u001b[0me\u001b[0m\u001b[0;34m)\u001b[0m \u001b[0;32mfrom\u001b[0m \u001b[0me\u001b[0m\u001b[0;34m\u001b[0m\u001b[0m\n",
      "\u001b[0;31mTransactionFailed\u001b[0m: "
     ]
    }
   ],
   "source": [
    "# NOTE: We cannot create a duplicate named property. This IS SUPPOSED TO FAIL\n",
    "make_property(bethel, \"1 Greenwood Avenue\")"
   ]
  },
  {
   "cell_type": "code",
   "execution_count": 61,
   "metadata": {},
   "outputs": [
    {
     "data": {
      "text/plain": [
       "<web3.utils.datatypes.Contract at 0x7f9a28179dd8>"
      ]
     },
     "execution_count": 61,
     "metadata": {},
     "output_type": "execute_result"
    }
   ],
   "source": [
    "# Get a property\n",
    "def get_property(tax_auth, property_name):\n",
    "    return interface.instance_at_address(\n",
    "        name=\"Property\",\n",
    "        address=tax_auth.functions.getPropertyByName(\n",
    "            property_name.encode()\n",
    "        ).call()\n",
    ")\n",
    "\n",
    "greenwood_1 = get_property(bethel, \"1 Greenwood Avenue\")\n",
    "greenwood_1"
   ]
  },
  {
   "cell_type": "code",
   "execution_count": 62,
   "metadata": {},
   "outputs": [
    {
     "data": {
      "text/plain": [
       "'me'"
      ]
     },
     "execution_count": 62,
     "metadata": {},
     "output_type": "execute_result"
    }
   ],
   "source": [
    "def who_owns(ownable):\n",
    "    \n",
    "    # Any ownable will have an owner() function, a \n",
    "    # public getter() of the owner contract attribute\n",
    "    \n",
    "    owner_address = ownable.functions.owner().call()\n",
    "    try:\n",
    "        return get_user(owner_address)\n",
    "    except:\n",
    "        pass\n",
    "    return owner_address\n",
    "\n",
    "who_owns(bethel)"
   ]
  },
  {
   "cell_type": "code",
   "execution_count": 63,
   "metadata": {},
   "outputs": [
    {
     "data": {
      "text/plain": [
       "'bethel tax authority'"
      ]
     },
     "execution_count": 63,
     "metadata": {},
     "output_type": "execute_result"
    }
   ],
   "source": [
    "# Check who owns 1 Greenwood Avenue\n",
    "who_owns(greenwood_1)"
   ]
  },
  {
   "cell_type": "code",
   "execution_count": 64,
   "metadata": {},
   "outputs": [
    {
     "data": {
      "text/plain": [
       "['1 Greenwood Avenue',\n",
       " '2 Greenwood Avenue',\n",
       " '3 Greenwood Avenue',\n",
       " '4 Greenwood Avenue']"
      ]
     },
     "execution_count": 64,
     "metadata": {},
     "output_type": "execute_result"
    }
   ],
   "source": [
    "# Let's use the event log to get a list of properties\n",
    "def read_log_entries(entity, event_type):\n",
    "    ret = entity.events[event_type].createFilter(fromBlock=0).get_all_entries()\n",
    "    return ret\n",
    "\n",
    "def get_all_properties(tax_auth):\n",
    "    ret = read_log_entries(tax_auth, \"NewProperty\")\n",
    "    return [bytes2str(x[\"args\"][\"propertyName\"]) for x in ret]\n",
    "\n",
    "get_all_properties(bethel)\n"
   ]
  },
  {
   "cell_type": "code",
   "execution_count": 65,
   "metadata": {},
   "outputs": [
    {
     "name": "stdout",
     "output_type": "stream",
     "text": [
      "1 Greenwood Avenue: bethel tax authority\n",
      "2 Greenwood Avenue: bethel tax authority\n",
      "3 Greenwood Avenue: bethel tax authority\n",
      "4 Greenwood Avenue: bethel tax authority\n"
     ]
    }
   ],
   "source": [
    "def who_owns_every_property(tax_auth):\n",
    "    for addr in get_all_properties(tax_auth):\n",
    "        print (\"%s: %s\" % (addr, who_owns(get_property(bethel, addr))))\n",
    "        \n",
    "who_owns_every_property(bethel)"
   ]
  },
  {
   "cell_type": "code",
   "execution_count": 66,
   "metadata": {},
   "outputs": [
    {
     "name": "stdout",
     "output_type": "stream",
     "text": [
      "1 Greenwood Avenue: bob\n",
      "2 Greenwood Avenue: bethel tax authority\n",
      "3 Greenwood Avenue: bethel tax authority\n",
      "4 Greenwood Avenue: bethel tax authority\n"
     ]
    }
   ],
   "source": [
    "# Ok, let's finally change the owner of one\n",
    "def transfer_property(tax_auth, prop, new_owner_address):\n",
    "    tax_auth.functions.transferProperty(\n",
    "        prop.functions.name().call(),\n",
    "        new_owner_address\n",
    "    ).transact()\n",
    "    \n",
    "transfer_property(bethel,\n",
    "                  get_property(bethel, \"1 Greenwood Avenue\"),\n",
    "                  get_address(\"bob\"))\n",
    "\n",
    "who_owns_every_property(bethel)"
   ]
  },
  {
   "cell_type": "code",
   "execution_count": 67,
   "metadata": {},
   "outputs": [
    {
     "name": "stdout",
     "output_type": "stream",
     "text": [
      "1 Greenwood Avenue: bob\n",
      "2 Greenwood Avenue: bob\n",
      "3 Greenwood Avenue: bob\n",
      "4 Greenwood Avenue: bob\n"
     ]
    }
   ],
   "source": [
    "# Woohoo! Let's do the rest\n",
    "bethel.functions.transferProperty(\"2 Greenwood Avenue\".encode(),\n",
    "                                 get_address(\"bob\")).transact()\n",
    "bethel.functions.transferProperty(\"3 Greenwood Avenue\".encode(),\n",
    "                                 get_address(\"bob\")).transact()\n",
    "bethel.functions.transferProperty(\"4 Greenwood Avenue\".encode(),\n",
    "                                 get_address(\"bob\")).transact()\n",
    "who_owns_every_property(bethel)"
   ]
  },
  {
   "cell_type": "code",
   "execution_count": 71,
   "metadata": {},
   "outputs": [
    {
     "name": "stdout",
     "output_type": "stream",
     "text": [
      "1 Greenwood Avenue: bethel tax authority\n",
      "2 Greenwood Avenue: bob\n",
      "3 Greenwood Avenue: bob\n",
      "4 Greenwood Avenue: bob\n"
     ]
    }
   ],
   "source": [
    "def reposses_property(tax_auth, prop):\n",
    "    transfer_property(\n",
    "        tax_auth, \n",
    "        prop, \n",
    "        tax_auth.address\n",
    "    )\n",
    "reposses_property(bethel, get_property(bethel, \"1 Greenwood Avenue\"))\n",
    "who_owns_every_property(bethel)"
   ]
  },
  {
   "cell_type": "markdown",
   "metadata": {},
   "source": [
    "# Check if properties are paid up"
   ]
  },
  {
   "cell_type": "code",
   "execution_count": 72,
   "metadata": {},
   "outputs": [
    {
     "data": {
      "text/plain": [
       "0"
      ]
     },
     "execution_count": 72,
     "metadata": {},
     "output_type": "execute_result"
    }
   ],
   "source": [
    "greenwood_1.functions.billIndex().call()"
   ]
  },
  {
   "cell_type": "code",
   "execution_count": 73,
   "metadata": {},
   "outputs": [
    {
     "data": {
      "text/plain": [
       "0"
      ]
     },
     "execution_count": 73,
     "metadata": {},
     "output_type": "execute_result"
    }
   ],
   "source": [
    "bethel.functions.taxBillCount().call()"
   ]
  },
  {
   "cell_type": "code",
   "execution_count": 74,
   "metadata": {},
   "outputs": [
    {
     "data": {
      "text/plain": [
       "True"
      ]
     },
     "execution_count": 74,
     "metadata": {},
     "output_type": "execute_result"
    }
   ],
   "source": [
    "greenwood_1.functions.isPaidCurrent().call()"
   ]
  },
  {
   "cell_type": "markdown",
   "metadata": {},
   "source": [
    "# 3. Issuing tax bills"
   ]
  },
  {
   "cell_type": "code",
   "execution_count": 76,
   "metadata": {},
   "outputs": [
    {
     "data": {
      "text/plain": [
       "1"
      ]
     },
     "execution_count": 76,
     "metadata": {},
     "output_type": "execute_result"
    }
   ],
   "source": [
    "def create_tax_bill(tax_auth, tax_rate):\n",
    "    \n",
    "    \"\"\" tax_rate must be a per-mille amount, per 1000, \n",
    "    instead of percent which is per 100 \"\"\"\n",
    "    \n",
    "    tax_auth.functions.createTaxBill(tax_rate).transact()\n",
    "\n",
    "create_tax_bill(bethel, 30)\n",
    "bethel.functions.taxBillCount().call()"
   ]
  },
  {
   "cell_type": "code",
   "execution_count": 78,
   "metadata": {
    "scrolled": true
   },
   "outputs": [
    {
     "data": {
      "text/plain": [
       "[AttributeDict({'args': AttributeDict({'taxBillIndex': 0}),\n",
       "  'event': 'NewTaxBill',\n",
       "  'logIndex': 0,\n",
       "  'transactionIndex': 0,\n",
       "  'transactionHash': HexBytes('0x465d44aef0df8e020408daf390ebe2b146672bf0f02890966a542cbbd41e4263'),\n",
       "  'address': '0xD24260C102B5D128cbEFA0F655E5be3c2370677C',\n",
       "  'blockHash': HexBytes('0x709ab3a93dbe2391d9678641b82005b4ace6c763cd01573cba5088e09db6b3b1'),\n",
       "  'blockNumber': 26})]"
      ]
     },
     "execution_count": 78,
     "metadata": {},
     "output_type": "execute_result"
    }
   ],
   "source": [
    "# See that a new tax bill event was created\n",
    "read_log_entries(bethel, \"NewTaxBill\")"
   ]
  },
  {
   "cell_type": "code",
   "execution_count": 115,
   "metadata": {},
   "outputs": [
    {
     "name": "stdout",
     "output_type": "stream",
     "text": [
      "Property owes... 0 \n"
     ]
    }
   ],
   "source": [
    "def get_tax_bill(tax_auth, i):\n",
    "    return interface.instance_at_address(\n",
    "        \"TaxBill\",\n",
    "        tax_auth.functions.taxBills(i).call()\n",
    "    )\n",
    "\n",
    "print (\"Property owes... %d \" % get_tax_bill(bethel, 0).functions.amountDue(greenwood_1.address).call())"
   ]
  },
  {
   "cell_type": "markdown",
   "metadata": {},
   "source": [
    "# 4. Paying taxes\n",
    "\n",
    "Now that a tax bill has been issued, let's see if our properties are still paid current"
   ]
  },
  {
   "cell_type": "code",
   "execution_count": 93,
   "metadata": {},
   "outputs": [
    {
     "data": {
      "text/plain": [
       "True"
      ]
     },
     "execution_count": 93,
     "metadata": {},
     "output_type": "execute_result"
    }
   ],
   "source": [
    "# Is Greenwood 1 still paid current?\n",
    "get_property(bethel, \"1 Greenwood Avenue\").functions.isPaidCurrent().call()"
   ]
  },
  {
   "cell_type": "markdown",
   "metadata": {},
   "source": [
    "### Let's see how much the owner owes"
   ]
  },
  {
   "cell_type": "code",
   "execution_count": 117,
   "metadata": {},
   "outputs": [
    {
     "name": "stdout",
     "output_type": "stream",
     "text": [
      "Summary for 1 Greenwood Avenue in Bethel\n",
      "========================================\n",
      "* Owner is bethel tax authority\n",
      "* Assessed value is 1000000\n",
      "* The maximum sale price is 1500000\n",
      "* The tax authority has issued 1 tax bills\n",
      "* The property has paid 1 tax bills\n",
      "* The property is paid current\n"
     ]
    }
   ],
   "source": [
    "def property_summary(tax_auth, property_name):\n",
    "    \n",
    "    prop = get_property(tax_auth, property_name)\n",
    "    \n",
    "    underline(\"Summary for %s in %s\" % (\n",
    "        property_name,\n",
    "        bytes2str(tax_auth.functions.name().call()),\n",
    "    ))\n",
    "    \n",
    "    assessed_value = prop.functions.assessedValue().call()\n",
    "   \n",
    "    print (\"* Owner is %s\" % who_owns(prop))\n",
    "    print (\"* Assessed value is %d\" % assessed_value)\n",
    "    print (\"* The maximum sale price is %d\" % \n",
    "           tax_auth.functions.maximumSalePrice(assessed_value).call())\n",
    "    print (\"* The tax authority has issued %d tax bills\" % tax_auth.functions.taxBillCount().call())\n",
    "    print (\"* The property has paid %d tax bills\" % prop.functions.billIndex().call())\n",
    "    is_paid = \"is not\"\n",
    "    \n",
    "    if prop.functions.isPaidCurrent().call():\n",
    "        is_paid = \"is\"\n",
    "    else:\n",
    "        print (\n",
    "        \"* Here's the next outstanding bill: %d\" % \n",
    "               get_tax_bill(\n",
    "                   tax_auth, \n",
    "               props.functions.billIndex().call()\n",
    "           ).functions.amountDue(prop.address)\n",
    "          )\n",
    "\n",
    "    print (\"* The property %s paid current\" % is_paid)\n",
    "    \n",
    "property_summary(bethel, \"1 Greenwood Avenue\")\n"
   ]
  },
  {
   "cell_type": "code",
   "execution_count": 104,
   "metadata": {},
   "outputs": [
    {
     "data": {
      "text/plain": [
       "150"
      ]
     },
     "execution_count": 104,
     "metadata": {},
     "output_type": "execute_result"
    }
   ],
   "source": [
    "greenwood_1.functions.isPaidCurrent"
   ]
  },
  {
   "cell_type": "markdown",
   "metadata": {},
   "source": [
    "###  Nothing? That's because the property has no value...\n",
    "\n",
    "Let's make it a $1 million property."
   ]
  },
  {
   "cell_type": "code",
   "execution_count": 91,
   "metadata": {},
   "outputs": [
    {
     "data": {
      "text/plain": [
       "HexBytes('0x6abf01a618ded621512b044291c691c10ffbef8b96cf30a865bce7ede462578e')"
      ]
     },
     "execution_count": 91,
     "metadata": {},
     "output_type": "execute_result"
    }
   ],
   "source": [
    "def set_assessed_value(tax_auth, prop, new_value):\n",
    "    return tax_auth.functions.setPropertyAssessedValue(\n",
    "        prop.address, 1000 * 1000\n",
    "    ).transact() \n",
    "\n",
    "set_assessed_value(bethel,\n",
    "                   greenwood_1,\n",
    "                   1000 * 1000)\n"
   ]
  },
  {
   "cell_type": "markdown",
   "metadata": {},
   "source": [
    "... remember, tax rates are permille, not percent, so they are $30 per $1,000 in value, or:"
   ]
  },
  {
   "cell_type": "code",
   "execution_count": 92,
   "metadata": {},
   "outputs": [
    {
     "name": "stdout",
     "output_type": "stream",
     "text": [
      "Property owes... 0 \n"
     ]
    }
   ],
   "source": [
    "print (\"Property owes... %d \" % tax_bill.functions.amountDue(greenwood_1.address).call())"
   ]
  },
  {
   "cell_type": "code",
   "execution_count": 118,
   "metadata": {},
   "outputs": [
    {
     "ename": "IndentationError",
     "evalue": "unexpected indent (<ipython-input-118-702ce0d6d20e>, line 4)",
     "output_type": "error",
     "traceback": [
      "\u001b[0;36m  File \u001b[0;32m\"<ipython-input-118-702ce0d6d20e>\"\u001b[0;36m, line \u001b[0;32m4\u001b[0m\n\u001b[0;31m    tax_auth.functions.payBill(prop.address).transact({\u001b[0m\n\u001b[0m    ^\u001b[0m\n\u001b[0;31mIndentationError\u001b[0m\u001b[0;31m:\u001b[0m unexpected indent\n"
     ]
    }
   ],
   "source": [
    "# Pay the taxes\n",
    "\n",
    "def pay_next_bill(tax_auth, property):\n",
    "    tax_auth.functions.payBill(prop.address).transact({\n",
    "        \"value\":tax_bill.functions.amountDue(prop.address).call(),\n",
    "    })\n",
    "    \n"
   ]
  },
  {
   "cell_type": "code",
   "execution_count": 86,
   "metadata": {},
   "outputs": [
    {
     "data": {
      "text/plain": [
       "1"
      ]
     },
     "execution_count": 86,
     "metadata": {},
     "output_type": "execute_result"
    }
   ],
   "source": [
    "greenwood_1.functions.billIndex().call()"
   ]
  },
  {
   "cell_type": "code",
   "execution_count": 87,
   "metadata": {},
   "outputs": [
    {
     "data": {
      "text/plain": [
       "[AttributeDict({'args': AttributeDict({'status': 2}),\n",
       "  'event': 'BillPaid',\n",
       "  'logIndex': 0,\n",
       "  'transactionIndex': 0,\n",
       "  'transactionHash': HexBytes('0xc2ef2b98c472bf5d7a7c8f2786a372edd7c0be3d23168bd0d9497af34de5b199'),\n",
       "  'address': '0xD24260C102B5D128cbEFA0F655E5be3c2370677C',\n",
       "  'blockHash': HexBytes('0x28b5dd11cceef11438076bea0f54994bb6930804c3f7cb1246bea86687f7b945'),\n",
       "  'blockNumber': 29})]"
      ]
     },
     "execution_count": 87,
     "metadata": {},
     "output_type": "execute_result"
    }
   ],
   "source": [
    "read_log_entries(bethel, \"BillPaid\")"
   ]
  },
  {
   "cell_type": "code",
   "execution_count": 88,
   "metadata": {},
   "outputs": [
    {
     "data": {
      "text/plain": [
       "30000"
      ]
     },
     "execution_count": 88,
     "metadata": {},
     "output_type": "execute_result"
    }
   ],
   "source": [
    "tax_bill.functions.totalReceipts().call()"
   ]
  },
  {
   "cell_type": "code",
   "execution_count": 89,
   "metadata": {},
   "outputs": [
    {
     "data": {
      "text/plain": [
       "True"
      ]
     },
     "execution_count": 89,
     "metadata": {},
     "output_type": "execute_result"
    }
   ],
   "source": [
    "greenwood_1.functions.isPaidCurrent().call()"
   ]
  },
  {
   "cell_type": "code",
   "execution_count": 30,
   "metadata": {},
   "outputs": [
    {
     "data": {
      "text/plain": [
       "0"
      ]
     },
     "execution_count": 30,
     "metadata": {},
     "output_type": "execute_result"
    }
   ],
   "source": [
    "tax_bill.functions.amountDue(greenwood_1.address).call()"
   ]
  },
  {
   "cell_type": "code",
   "execution_count": 31,
   "metadata": {},
   "outputs": [
    {
     "name": "stdout",
     "output_type": "stream",
     "text": [
      "0x7E5F4552091A69125d5DfCb7b8C2659029395Bdf\t999999999999999993805282\n",
      "0x2B5AD5c4795c026514f8317c7a215E218DcCD6cF\t1000000000000000000000000\n",
      "0x6813Eb9362372EEF6200f3b1dbC3f819671cBA69\t1000000000000000000000000\n",
      "0x1efF47bc3a10a45D4B230B5d10E37751FE6AA718\t1000000000000000000000000\n",
      "0xe1AB8145F7E55DC933d51a18c793F901A3A0b276\t1000000000000000000000000\n",
      "0xE57bFE9F44b819898F47BF37E5AF72a0783e1141\t1000000000000000000000000\n",
      "0xd41c057fd1c78805AAC12B0A94a405c0461A6FBb\t1000000000000000000000000\n",
      "0xF1F6619B38A98d6De0800F1DefC0a6399eB6d30C\t1000000000000000000000000\n",
      "0xF7Edc8FA1eCc32967F827C9043FcAe6ba73afA5c\t1000000000000000000000000\n",
      "0x4CCeBa2d7D2B4fdcE4304d3e09a1fea9fbEb1528\t1000000000000000000000000\n"
     ]
    }
   ],
   "source": [
    "for acc in interface.w3.eth.accounts:\n",
    "     print (\"%s\\t%s\" % (acc, interface.w3.eth.getBalance(acc)) )"
   ]
  },
  {
   "cell_type": "code",
   "execution_count": 32,
   "metadata": {},
   "outputs": [
    {
     "data": {
      "text/plain": [
       "'0xdb65462AbE49EBCE6DE2c8229Bf23C2c590B60E7'"
      ]
     },
     "execution_count": 32,
     "metadata": {},
     "output_type": "execute_result"
    }
   ],
   "source": [
    "import random \n",
    "\n",
    "def create_random_address(w3):\n",
    "    \n",
    "    \"\"\" Borrowed this function from lecture \"\"\"\n",
    "    \n",
    "    random_num =random.randrange(10 ** 80)\n",
    "    hexi = \"%064x\" % random_num\n",
    "    \n",
    "    return w3.toChecksumAddress('0x' + hexi[:40])\n",
    "\n",
    "bob = create_random_address(interface.w3)\n",
    "bob"
   ]
  },
  {
   "cell_type": "markdown",
   "metadata": {},
   "source": [
    "# Now let's try selling a property\n",
    "\n",
    "Remeber the rules:\n",
    "\n",
    "1. A property with back taxes cannot be sold\n",
    "2. A  property cannot be sold for a lot more than* its assessed value\n",
    "\n",
    "\"A lot more\" is defined as:\n",
    "\n",
    "property.assessedValue + (tax_authority.auditTreshold / 1000) * property.assessedValue"
   ]
  },
  {
   "cell_type": "code",
   "execution_count": 33,
   "metadata": {},
   "outputs": [
    {
     "data": {
      "text/plain": [
       "30000"
      ]
     },
     "execution_count": 33,
     "metadata": {},
     "output_type": "execute_result"
    }
   ],
   "source": [
    "def get_balance(entity):\n",
    "    return interface.w3.eth.getBalance(entity.address)\n",
    "get_balance(bethel)"
   ]
  },
  {
   "cell_type": "code",
   "execution_count": 34,
   "metadata": {},
   "outputs": [
    {
     "data": {
      "text/plain": [
       "1000000000"
      ]
     },
     "execution_count": 34,
     "metadata": {},
     "output_type": "execute_result"
    }
   ],
   "source": [
    "def create_random_funded_account(w3, amount=1000 * 1000 * 1000):\n",
    "    \n",
    "    addr = create_random_address(w3)\n",
    "    \n",
    "    w3.eth.sendTransaction({\n",
    "        \"to\":addr,\n",
    "        \"from\":interface.w3.eth.accounts[2],\n",
    "        \"value\":amount\n",
    "    })\n",
    "    \n",
    "    w3.eth.accounts.append(addr)\n",
    "    \n",
    "    return addr\n",
    "\n",
    "bob = create_random_funded_account(interface.w3)\n",
    "\n",
    "interface.w3.eth.getBalance(bob)"
   ]
  },
  {
   "cell_type": "code",
   "execution_count": 35,
   "metadata": {},
   "outputs": [
    {
     "data": {
      "text/plain": [
       "[('0x7E5F4552091A69125d5DfCb7b8C2659029395Bdf', 999999999999999993805282),\n",
       " ('0x2B5AD5c4795c026514f8317c7a215E218DcCD6cF', 1000000000000000000000000),\n",
       " ('0x6813Eb9362372EEF6200f3b1dbC3f819671cBA69', 999999999999998999979000),\n",
       " ('0x1efF47bc3a10a45D4B230B5d10E37751FE6AA718', 1000000000000000000000000),\n",
       " ('0xe1AB8145F7E55DC933d51a18c793F901A3A0b276', 1000000000000000000000000),\n",
       " ('0xE57bFE9F44b819898F47BF37E5AF72a0783e1141', 1000000000000000000000000),\n",
       " ('0xd41c057fd1c78805AAC12B0A94a405c0461A6FBb', 1000000000000000000000000),\n",
       " ('0xF1F6619B38A98d6De0800F1DefC0a6399eB6d30C', 1000000000000000000000000),\n",
       " ('0xF7Edc8FA1eCc32967F827C9043FcAe6ba73afA5c', 1000000000000000000000000),\n",
       " ('0x4CCeBa2d7D2B4fdcE4304d3e09a1fea9fbEb1528', 1000000000000000000000000)]"
      ]
     },
     "execution_count": 35,
     "metadata": {},
     "output_type": "execute_result"
    }
   ],
   "source": [
    "[(acc, interface.w3.eth.getBalance(acc)) for acc in interface.w3.eth.accounts]"
   ]
  },
  {
   "cell_type": "code",
   "execution_count": 36,
   "metadata": {},
   "outputs": [],
   "source": [
    "me = interface.w3.eth.accounts[0]"
   ]
  },
  {
   "cell_type": "code",
   "execution_count": 37,
   "metadata": {},
   "outputs": [
    {
     "data": {
      "text/plain": [
       "'0xF2E246BB76DF876Cef8b38ae84130F4F55De395b'"
      ]
     },
     "execution_count": 37,
     "metadata": {},
     "output_type": "execute_result"
    }
   ],
   "source": [
    "greenwood_1.functions.owner().call()"
   ]
  },
  {
   "cell_type": "code",
   "execution_count": 38,
   "metadata": {},
   "outputs": [
    {
     "data": {
      "text/plain": [
       "'0xF2E246BB76DF876Cef8b38ae84130F4F55De395b'"
      ]
     },
     "execution_count": 38,
     "metadata": {},
     "output_type": "execute_result"
    }
   ],
   "source": [
    "bethel.address"
   ]
  },
  {
   "cell_type": "code",
   "execution_count": 39,
   "metadata": {},
   "outputs": [],
   "source": [
    "joe = interface.w3.eth.accounts[5]\n",
    "transfer_property(bethel, greenwood_1, joe)"
   ]
  },
  {
   "cell_type": "code",
   "execution_count": 40,
   "metadata": {},
   "outputs": [
    {
     "data": {
      "text/plain": [
       "'0xE57bFE9F44b819898F47BF37E5AF72a0783e1141'"
      ]
     },
     "execution_count": 40,
     "metadata": {},
     "output_type": "execute_result"
    }
   ],
   "source": [
    "greenwood_1.functions.owner().call()"
   ]
  },
  {
   "cell_type": "code",
   "execution_count": 41,
   "metadata": {},
   "outputs": [
    {
     "data": {
      "text/plain": [
       "'0xE57bFE9F44b819898F47BF37E5AF72a0783e1141'"
      ]
     },
     "execution_count": 41,
     "metadata": {},
     "output_type": "execute_result"
    }
   ],
   "source": [
    "joe"
   ]
  },
  {
   "cell_type": "code",
   "execution_count": 42,
   "metadata": {},
   "outputs": [],
   "source": [
    "offer = interface.instance(\n",
    "    name=\"Offer\",\n",
    "    constructor_args=[greenwood_1.address],\n",
    "    value = 1 + 1000 * 1000\n",
    ")"
   ]
  },
  {
   "cell_type": "code",
   "execution_count": 43,
   "metadata": {},
   "outputs": [
    {
     "data": {
      "text/plain": [
       "HexBytes('0x533816ae299aa4478711d9589396c8fb2d07750567e06102f61b10182cf7db32')"
      ]
     },
     "execution_count": 43,
     "metadata": {},
     "output_type": "execute_result"
    }
   ],
   "source": [
    "# Submit the offer\n",
    "greenwood_1.functions.makeOffer(offer.address).transact({\"from\":joe})"
   ]
  },
  {
   "cell_type": "code",
   "execution_count": 44,
   "metadata": {},
   "outputs": [
    {
     "data": {
      "text/plain": [
       "[AttributeDict({'args': AttributeDict({'offerIndex': 0}),\n",
       "  'event': 'NewOffer',\n",
       "  'logIndex': 0,\n",
       "  'transactionIndex': 0,\n",
       "  'transactionHash': HexBytes('0x533816ae299aa4478711d9589396c8fb2d07750567e06102f61b10182cf7db32'),\n",
       "  'address': '0x4F9DA333DCf4E5A53772791B95c161B2FC041859',\n",
       "  'blockHash': HexBytes('0x9b61311cf7164a12c8e7a300d9a6968e8791af09c6c6b622c7d1c97ab91b7304'),\n",
       "  'blockNumber': 16})]"
      ]
     },
     "execution_count": 44,
     "metadata": {},
     "output_type": "execute_result"
    }
   ],
   "source": [
    "read_log_entries(greenwood_1, \"NewOffer\")"
   ]
  },
  {
   "cell_type": "code",
   "execution_count": 45,
   "metadata": {},
   "outputs": [
    {
     "data": {
      "text/plain": [
       "1000001"
      ]
     },
     "execution_count": 45,
     "metadata": {},
     "output_type": "execute_result"
    }
   ],
   "source": [
    "# Let's make sure the offer is funded\n",
    "interface.w3.eth.getBalance(offer.address)"
   ]
  },
  {
   "cell_type": "code",
   "execution_count": 46,
   "metadata": {},
   "outputs": [
    {
     "data": {
      "text/plain": [
       "True"
      ]
     },
     "execution_count": 46,
     "metadata": {},
     "output_type": "execute_result"
    }
   ],
   "source": [
    "# Make sure joe owns it\n",
    "greenwood_1.functions.owner().call() == joe"
   ]
  },
  {
   "cell_type": "code",
   "execution_count": 47,
   "metadata": {},
   "outputs": [
    {
     "data": {
      "text/plain": [
       "True"
      ]
     },
     "execution_count": 47,
     "metadata": {},
     "output_type": "execute_result"
    }
   ],
   "source": [
    "# Who wants to buy it?\n",
    "offer.functions.buyer().call() == me"
   ]
  },
  {
   "cell_type": "code",
   "execution_count": 48,
   "metadata": {},
   "outputs": [
    {
     "data": {
      "text/plain": [
       "999999999999999999914816"
      ]
     },
     "execution_count": 48,
     "metadata": {},
     "output_type": "execute_result"
    }
   ],
   "source": [
    "interface.w3.eth.getBalance(joe)"
   ]
  },
  {
   "cell_type": "code",
   "execution_count": 49,
   "metadata": {},
   "outputs": [
    {
     "data": {
      "text/plain": [
       "HexBytes('0x1001f4713016900a532e68691c8ea8662f17e8a26f632043379fc00e756629aa')"
      ]
     },
     "execution_count": 49,
     "metadata": {},
     "output_type": "execute_result"
    }
   ],
   "source": [
    "offer.functions.accept().transact({\"from\":joe})"
   ]
  },
  {
   "cell_type": "code",
   "execution_count": 50,
   "metadata": {},
   "outputs": [
    {
     "data": {
      "text/plain": [
       "1000000000000000000838909"
      ]
     },
     "execution_count": 50,
     "metadata": {},
     "output_type": "execute_result"
    }
   ],
   "source": [
    "interface.w3.eth.getBalance(joe)"
   ]
  },
  {
   "cell_type": "code",
   "execution_count": 51,
   "metadata": {},
   "outputs": [
    {
     "data": {
      "text/plain": [
       "True"
      ]
     },
     "execution_count": 51,
     "metadata": {},
     "output_type": "execute_result"
    }
   ],
   "source": [
    "# Now let's see who owns it\n",
    "greenwood_1.functions.owner().call() == me"
   ]
  },
  {
   "cell_type": "code",
   "execution_count": 59,
   "metadata": {},
   "outputs": [
    {
     "name": "stdout",
     "output_type": "stream",
     "text": [
      "The most I can sell the property for is: 1500000\n"
     ]
    }
   ],
   "source": [
    "print (\"The most I can sell the property for is: %s\" \n",
    "       % bethel.functions.maximumSalePrice(greenwood_1.functions.assessedValue().call()).call())"
   ]
  },
  {
   "cell_type": "code",
   "execution_count": null,
   "metadata": {},
   "outputs": [],
   "source": []
  },
  {
   "cell_type": "code",
   "execution_count": null,
   "metadata": {},
   "outputs": [],
   "source": []
  },
  {
   "cell_type": "code",
   "execution_count": null,
   "metadata": {},
   "outputs": [],
   "source": []
  }
 ],
 "metadata": {
  "kernelspec": {
   "display_name": "Python 3",
   "language": "python",
   "name": "python3"
  },
  "language_info": {
   "codemirror_mode": {
    "name": "ipython",
    "version": 3
   },
   "file_extension": ".py",
   "mimetype": "text/x-python",
   "name": "python",
   "nbconvert_exporter": "python",
   "pygments_lexer": "ipython3",
   "version": "3.6.5"
  }
 },
 "nbformat": 4,
 "nbformat_minor": 2
}
