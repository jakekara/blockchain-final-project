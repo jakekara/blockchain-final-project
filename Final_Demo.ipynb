{
 "cells": [
  {
   "cell_type": "markdown",
   "metadata": {},
   "source": [
    "# TaxBlock demonstration\n",
    "\n",
    "By Jake Kara \n",
    "Final project \n",
    "CSCI E-118\n",
    "Intro. to Blockchain and Bitcoin\n",
    "Fall 2018\n"
   ]
  },
  {
   "cell_type": "markdown",
   "metadata": {},
   "source": [
    "# Load solidity contracts\n",
    "\n",
    "The solidity contracts that comprise TaxBlock are in the folder taxblock_solidity/\n",
    "\n",
    "This script compiles them all together and creates an interface which we can use to instantiate individual contracts.\n",
    "\n",
    "The _test_contracts_ module calls in python wrappers from the taxblock/ folder, which contains helpful wrappers of some of the common ethereum functions we learned in class. This abstraction allows for a simpler notebook."
   ]
  },
  {
   "cell_type": "code",
   "execution_count": 1,
   "metadata": {},
   "outputs": [
    {
     "name": "stdout",
     "output_type": "stream",
     "text": [
      "Requirement already satisfied: qrcode in /home/jake/anaconda3/lib/python3.6/site-packages (6.0)\n",
      "Requirement already satisfied: six in /home/jake/anaconda3/lib/python3.6/site-packages (from qrcode) (1.11.0)\n",
      "Loading contract 'Named'\n",
      "Loading contract 'Owned'\n",
      "Loading contract 'Authorized'\n",
      "Loading contract 'TaxAuthority'\n",
      "Loading contract 'Taxed'\n",
      "Loading contract 'Traded'\n",
      "Loading contract 'Property'\n",
      "Loading contract 'TaxBill'\n",
      "Loading contract 'Authorized'\n",
      "Loading contract 'Offer'\n",
      "\n",
      "Compiling...\n",
      "Success!\n"
     ]
    }
   ],
   "source": [
    "!pip install qrcode\n",
    "import qrcode\n",
    "from test_contracts import source, interface\n"
   ]
  },
  {
   "cell_type": "code",
   "execution_count": 2,
   "metadata": {},
   "outputs": [
    {
     "name": "stdout",
     "output_type": "stream",
     "text": [
      "There are 10 accounts. Let's assign them:\n",
      "    0x7E5F455209  default: me: 1000000000000000000000000\n",
      "    0x2B5AD5c479          joe: 1000000000000000000000000\n",
      "    0x6813Eb9362          bob: 1000000000000000000000000\n",
      "    0x1efF47bc3a        steve: 1000000000000000000000000\n",
      "    0xe1AB8145F7         bill: 1000000000000000000000000\n",
      "    0xE57bFE9F44        alice: 1000000000000000000000000\n",
      "    0xd41c057fd1         jane: 1000000000000000000000000\n",
      "    0xF1F6619B38        kathy: 1000000000000000000000000\n",
      "    0xF7Edc8FA1e        sarah: 1000000000000000000000000\n",
      "    0x4CCeBa2d7D         iris: 1000000000000000000000000\n"
     ]
    }
   ],
   "source": [
    "print (\"There are %d accounts. Let's assign them:\" % len(interface.w3.eth.accounts))\n",
    "\n",
    "users = [\"me\",\"joe\",\"bob\",\"steve\",\"bill\",\"alice\",\"jane\",\"kathy\",\"sarah\",\"iris\"]\n",
    "\n",
    "universe = {\n",
    "}\n",
    "\n",
    "for i in range(len(users)):\n",
    "    universe[users[i]] = interface.w3.eth.accounts[i]    \n",
    "\n",
    "get_address = lambda x: universe[x]\n",
    "\n",
    "def get_user(x): \n",
    "    \n",
    "    for k in universe.keys():\n",
    "        if universe[k] == x:\n",
    "            return k\n",
    "        \n",
    "def get_universe():\n",
    "    ret = []\n",
    "    for user in universe.keys():\n",
    "        user_addr = get_address(user)\n",
    "\n",
    "        assert get_user(user_addr) == user\n",
    "        is_default = \"\"\n",
    "            \n",
    "        balance = interface.w3.eth.getBalance(user_addr)\n",
    "        ret.append({\n",
    "            \"name\":user,\n",
    "            \"address\":user_addr,\n",
    "            \"balance\":balance\n",
    "        })\n",
    "        \n",
    "    return ret\n",
    "\n",
    "def print_universe():\n",
    "    \n",
    "    for user in get_universe():\n",
    "        \n",
    "        is_default = \"\"\n",
    "        \n",
    "        if user[\"address\"] == interface.w3.eth.defaultAccount:\n",
    "            is_default = \"default: \"\n",
    "\n",
    "        print (\"    %s %12s: %d\" % \n",
    "               (user[\"address\"][:12], is_default + user[\"name\"], user[\"balance\"]))\n",
    "\n",
    "\n",
    "print_universe()\n"
   ]
  },
  {
   "cell_type": "markdown",
   "metadata": {},
   "source": [
    "# 1. Creating a tax authority\n",
    "\n",
    "Anyone can create a tax authority by instantiating a TaxAuthority contract. We will call our town Bethel."
   ]
  },
  {
   "cell_type": "code",
   "execution_count": 3,
   "metadata": {},
   "outputs": [],
   "source": [
    "# Create a tax authority called bethel\n",
    "bethel = interface.instance(\n",
    "    name=\"TaxAuthority\",\n",
    "    constructor_args=[\"Bethel\".encode()]\n",
    ")\n",
    "\n",
    "universe[\"bethel tax authority\"] = bethel.address"
   ]
  },
  {
   "cell_type": "code",
   "execution_count": 4,
   "metadata": {},
   "outputs": [
    {
     "data": {
      "text/plain": [
       "'0xF2E246BB76DF876Cef8b38ae84130F4F55De395b'"
      ]
     },
     "execution_count": 4,
     "metadata": {},
     "output_type": "execute_result"
    }
   ],
   "source": [
    "get_address(\"bethel tax authority\")"
   ]
  },
  {
   "cell_type": "code",
   "execution_count": 5,
   "metadata": {},
   "outputs": [
    {
     "data": {
      "text/plain": [
       "'bethel tax authority'"
      ]
     },
     "execution_count": 5,
     "metadata": {},
     "output_type": "execute_result"
    }
   ],
   "source": [
    "get_user(get_address(\"bethel tax authority\"))"
   ]
  },
  {
   "cell_type": "code",
   "execution_count": 6,
   "metadata": {
    "scrolled": true
   },
   "outputs": [
    {
     "name": "stdout",
     "output_type": "stream",
     "text": [
      "TaxBlock summary for the town of Bethel\n",
      "=======================================\n",
      "* The contract address is 0xF2E246BB76DF876Cef8b38ae84130F4F55De395b\n",
      "* The owner is me\n",
      "* The tax for transferring properties is $0 per $1000 of assessed value.\n",
      "* Properties cannot be sold for 0 permille more than their assessed value.\n",
      "* Bethel has issued 0 tax bills.\n"
     ]
    }
   ],
   "source": [
    "# Convert bytes to strings and drop the remaining null characters\n",
    "bytes2str = lambda b: b.decode(\"utf-8\").rstrip('\\x00')\n",
    "\n",
    "# Print an underlined string\n",
    "def underline(msg, char=\"=\"):\n",
    "    msg_len = len(msg)\n",
    "    print (msg)\n",
    "    print (char * msg_len)\n",
    "    \n",
    "def summarize(tax_auth):\n",
    "    underline (\"TaxBlock summary for the town of %s\" \n",
    "               % bytes2str(tax_auth.functions.name().call()))\n",
    "    \n",
    "    print(\"* The contract address is %s\" % tax_auth.address)    \n",
    "    print(\"* The owner is %s\" % get_user(tax_auth.functions.owner().call())) \n",
    "    print(\"* The tax for transferring properties is $%d per $1000 of assessed value.\" % (\n",
    "        tax_auth.functions.transferTaxRate().call()\n",
    "    ))\n",
    "    print(\"* Properties cannot be sold for %d permille more than their assessed value.\" % (\n",
    "        tax_auth.functions.auditThreshold().call()\n",
    "    ))\n",
    "    print(\"* %s has issued %d tax bills.\" % (\n",
    "        bytes2str(tax_auth.functions.name().call()),\n",
    "        tax_auth.functions.taxBillCount().call()\n",
    "    ))\n",
    "    \n",
    "summarize(bethel)"
   ]
  },
  {
   "cell_type": "code",
   "execution_count": 7,
   "metadata": {},
   "outputs": [
    {
     "name": "stdout",
     "output_type": "stream",
     "text": [
      "TaxBlock summary for the town of Bethel\n",
      "=======================================\n",
      "* The contract address is 0xF2E246BB76DF876Cef8b38ae84130F4F55De395b\n",
      "* The owner is me\n",
      "* The tax for transferring properties is $10 per $1000 of assessed value.\n",
      "* Properties cannot be sold for 500 permille more than their assessed value.\n",
      "* Bethel has issued 0 tax bills.\n"
     ]
    }
   ],
   "source": [
    "# Let's set the audit threshold and the transfer tax rate\n",
    "\n",
    "# - The audit threshold is used to compute the maximum allowed sale price, \n",
    "#   based on the assessed value. It is in milles of assessed value\n",
    "# - The transfer tax rate is the per mille amount charged on the sale price\n",
    "#   of each transaction\n",
    "\n",
    "bethel.functions.setAuditThreshold(500).transact()\n",
    "bethel.functions.setTransferTaxRate(10).transact()\n",
    "summarize(bethel)"
   ]
  },
  {
   "cell_type": "code",
   "execution_count": 8,
   "metadata": {},
   "outputs": [
    {
     "name": "stdout",
     "output_type": "stream",
     "text": [
      "\n",
      "This is the un-forgable contract address of the Bethel tax authority\n"
     ]
    },
    {
     "data": {
      "image/png": "[encoded data removed]",
      "text/plain": [
       "<qrcode.image.pil.PilImage at 0x7fdaed184f60>"
      ]
     },
     "execution_count": 8,
     "metadata": {},
     "output_type": "execute_result"
    }
   ],
   "source": [
    "# Let's make a QR code we can share with property owners. \n",
    "# We can post it on the wall at town hall to make sure that\n",
    "# they don't interact with fraudulent tax authorities.\n",
    "\n",
    "def print_qr_code(tax_auth):\n",
    "    print (\"\")\n",
    "    print (\"This is the un-forgable contract address of the %s tax authority\"\n",
    "          % bytes2str(tax_auth.functions.name().call()))\n",
    "    return qrcode.make(tax_auth.address)\n",
    "\n",
    "print_qr_code(bethel)"
   ]
  },
  {
   "cell_type": "markdown",
   "metadata": {},
   "source": [
    "# 2. Creating properties\n",
    "\n",
    "Now that we have set up the taxauthority contract and posted the QR code on the wall, we are ready for business in the town clerk's office.\n",
    "\n",
    "When someone comes in, we need to be able to make a property for them that is controlled by our tax authority contract.\n",
    "\n",
    "Oh look, Bob, who owns four properties on Greenwood Avenue, has walked in the door. After a quick check of his paper records, we can see that he's all paid up and we're ready to create his properties in the taxblock system."
   ]
  },
  {
   "cell_type": "code",
   "execution_count": 9,
   "metadata": {},
   "outputs": [],
   "source": [
    "# Now let's make some properties\n",
    "def make_property(tax_auth, property_name):\n",
    "    tax_auth.functions.createProperty(property_name.encode()).transact()\n",
    "\n",
    "# Make the properties that bob owns.\n",
    "make_property(bethel, \"1 Greenwood Avenue\")\n",
    "make_property(bethel, \"2 Greenwood Avenue\")\n",
    "make_property(bethel, \"3 Greenwood Avenue\")\n",
    "make_property(bethel, \"4 Greenwood Avenue\")"
   ]
  },
  {
   "cell_type": "code",
   "execution_count": 10,
   "metadata": {},
   "outputs": [
    {
     "name": "stdout",
     "output_type": "stream",
     "text": [
      "GOOD, THIS WAS SUPPOSED TO FAIL!\n"
     ]
    }
   ],
   "source": [
    "# NOTE: We cannot create a duplicate named property. This IS SUPPOSED TO FAIL\n",
    "try:\n",
    "    make_property(bethel, \"1 Greenwood Avenue\")\n",
    "except:\n",
    "    print (\"GOOD, THIS WAS SUPPOSED TO FAIL!\")"
   ]
  },
  {
   "cell_type": "code",
   "execution_count": 11,
   "metadata": {},
   "outputs": [
    {
     "data": {
      "text/plain": [
       "<web3.utils.datatypes.Contract at 0x7fdaec488b38>"
      ]
     },
     "execution_count": 11,
     "metadata": {},
     "output_type": "execute_result"
    }
   ],
   "source": [
    "# Get a property\n",
    "def get_property(tax_auth, property_name):\n",
    "    return interface.instance_at_address(\n",
    "        name=\"Property\",\n",
    "        address=tax_auth.functions.getPropertyByName(\n",
    "            property_name.encode()\n",
    "        ).call()\n",
    ")\n",
    "\n",
    "greenwood_1 = get_property(bethel, \"1 Greenwood Avenue\")\n",
    "greenwood_1"
   ]
  },
  {
   "cell_type": "code",
   "execution_count": 12,
   "metadata": {},
   "outputs": [
    {
     "data": {
      "text/plain": [
       "'me'"
      ]
     },
     "execution_count": 12,
     "metadata": {},
     "output_type": "execute_result"
    }
   ],
   "source": [
    "def who_owns(ownable):\n",
    "    \n",
    "    # Any ownable will have an owner() function, a \n",
    "    # public getter() of the owner contract attribute\n",
    "    \n",
    "    owner_address = ownable.functions.owner().call()\n",
    "    try:\n",
    "        return get_user(owner_address)\n",
    "    except:\n",
    "        pass\n",
    "    return owner_address\n",
    "\n",
    "who_owns(bethel)"
   ]
  },
  {
   "cell_type": "code",
   "execution_count": 13,
   "metadata": {},
   "outputs": [
    {
     "data": {
      "text/plain": [
       "'bethel tax authority'"
      ]
     },
     "execution_count": 13,
     "metadata": {},
     "output_type": "execute_result"
    }
   ],
   "source": [
    "# Check who owns 1 Greenwood Avenue\n",
    "who_owns(greenwood_1)"
   ]
  },
  {
   "cell_type": "code",
   "execution_count": 14,
   "metadata": {},
   "outputs": [
    {
     "data": {
      "text/plain": [
       "['1 Greenwood Avenue',\n",
       " '2 Greenwood Avenue',\n",
       " '3 Greenwood Avenue',\n",
       " '4 Greenwood Avenue']"
      ]
     },
     "execution_count": 14,
     "metadata": {},
     "output_type": "execute_result"
    }
   ],
   "source": [
    "# Let's use the event log to get a list of properties\n",
    "def read_log_entries(entity, event_type):\n",
    "    ret = entity.events[event_type].createFilter(fromBlock=0).get_all_entries()\n",
    "    return ret\n",
    "\n",
    "def get_all_properties(tax_auth):\n",
    "    ret = read_log_entries(tax_auth, \"NewProperty\")\n",
    "    return [bytes2str(x[\"args\"][\"propertyName\"]) for x in ret]\n",
    "\n",
    "get_all_properties(bethel)\n"
   ]
  },
  {
   "cell_type": "code",
   "execution_count": 15,
   "metadata": {},
   "outputs": [
    {
     "name": "stdout",
     "output_type": "stream",
     "text": [
      "1 Greenwood Avenue: bethel tax authority\n",
      "2 Greenwood Avenue: bethel tax authority\n",
      "3 Greenwood Avenue: bethel tax authority\n",
      "4 Greenwood Avenue: bethel tax authority\n"
     ]
    }
   ],
   "source": [
    "def who_owns_every_property(tax_auth):\n",
    "    for addr in get_all_properties(tax_auth):\n",
    "        print (\"%s: %s\" % (addr, who_owns(get_property(bethel, addr))))\n",
    "        \n",
    "who_owns_every_property(bethel)"
   ]
  },
  {
   "cell_type": "code",
   "execution_count": 16,
   "metadata": {},
   "outputs": [
    {
     "name": "stdout",
     "output_type": "stream",
     "text": [
      "1 Greenwood Avenue: bob\n",
      "2 Greenwood Avenue: bethel tax authority\n",
      "3 Greenwood Avenue: bethel tax authority\n",
      "4 Greenwood Avenue: bethel tax authority\n"
     ]
    }
   ],
   "source": [
    "# Ok, let's finally change the owner of one\n",
    "def transfer_property(tax_auth, prop, new_owner_address):\n",
    "    tax_auth.functions.transferProperty(\n",
    "        prop.functions.name().call(),\n",
    "        new_owner_address\n",
    "    ).transact()\n",
    "    \n",
    "transfer_property(bethel,\n",
    "                  get_property(bethel, \"1 Greenwood Avenue\"),\n",
    "                  get_address(\"bob\"))\n",
    "\n",
    "who_owns_every_property(bethel)"
   ]
  },
  {
   "cell_type": "code",
   "execution_count": 17,
   "metadata": {},
   "outputs": [
    {
     "name": "stdout",
     "output_type": "stream",
     "text": [
      "1 Greenwood Avenue: bob\n",
      "2 Greenwood Avenue: bob\n",
      "3 Greenwood Avenue: bob\n",
      "4 Greenwood Avenue: bob\n"
     ]
    }
   ],
   "source": [
    "# Woohoo! Let's do the rest\n",
    "bethel.functions.transferProperty(\"2 Greenwood Avenue\".encode(),\n",
    "                                 get_address(\"bob\")).transact()\n",
    "bethel.functions.transferProperty(\"3 Greenwood Avenue\".encode(),\n",
    "                                 get_address(\"bob\")).transact()\n",
    "bethel.functions.transferProperty(\"4 Greenwood Avenue\".encode(),\n",
    "                                 get_address(\"bob\")).transact()\n",
    "who_owns_every_property(bethel)"
   ]
  },
  {
   "cell_type": "code",
   "execution_count": 18,
   "metadata": {},
   "outputs": [
    {
     "name": "stdout",
     "output_type": "stream",
     "text": [
      "1 Greenwood Avenue: bethel tax authority\n",
      "2 Greenwood Avenue: bob\n",
      "3 Greenwood Avenue: bob\n",
      "4 Greenwood Avenue: bob\n"
     ]
    }
   ],
   "source": [
    "def reposses_property(tax_auth, prop):\n",
    "    transfer_property(\n",
    "        tax_auth, \n",
    "        prop, \n",
    "        tax_auth.address\n",
    "    )\n",
    "reposses_property(bethel, get_property(bethel, \"1 Greenwood Avenue\"))\n",
    "who_owns_every_property(bethel)"
   ]
  },
  {
   "cell_type": "markdown",
   "metadata": {},
   "source": [
    "# Check if properties are paid up"
   ]
  },
  {
   "cell_type": "code",
   "execution_count": 19,
   "metadata": {},
   "outputs": [
    {
     "data": {
      "text/plain": [
       "0"
      ]
     },
     "execution_count": 19,
     "metadata": {},
     "output_type": "execute_result"
    }
   ],
   "source": [
    "greenwood_1.functions.billIndex().call()"
   ]
  },
  {
   "cell_type": "code",
   "execution_count": 20,
   "metadata": {},
   "outputs": [
    {
     "data": {
      "text/plain": [
       "0"
      ]
     },
     "execution_count": 20,
     "metadata": {},
     "output_type": "execute_result"
    }
   ],
   "source": [
    "bethel.functions.taxBillCount().call()"
   ]
  },
  {
   "cell_type": "code",
   "execution_count": 21,
   "metadata": {},
   "outputs": [
    {
     "data": {
      "text/plain": [
       "True"
      ]
     },
     "execution_count": 21,
     "metadata": {},
     "output_type": "execute_result"
    }
   ],
   "source": [
    "greenwood_1.functions.isPaidCurrent().call()"
   ]
  },
  {
   "cell_type": "markdown",
   "metadata": {},
   "source": [
    "# 3. Issuing tax bills"
   ]
  },
  {
   "cell_type": "code",
   "execution_count": 22,
   "metadata": {},
   "outputs": [
    {
     "data": {
      "text/plain": [
       "1"
      ]
     },
     "execution_count": 22,
     "metadata": {},
     "output_type": "execute_result"
    }
   ],
   "source": [
    "def create_tax_bill(tax_auth, tax_rate):\n",
    "    \n",
    "    \"\"\" tax_rate must be a per-mille amount, per 1000, \n",
    "    instead of percent which is per 100 \"\"\"\n",
    "    \n",
    "    tax_auth.functions.createTaxBill(tax_rate).transact()\n",
    "\n",
    "create_tax_bill(bethel, 30)\n",
    "bethel.functions.taxBillCount().call()"
   ]
  },
  {
   "cell_type": "code",
   "execution_count": 23,
   "metadata": {
    "scrolled": true
   },
   "outputs": [
    {
     "data": {
      "text/plain": [
       "[AttributeDict({'args': AttributeDict({'taxBillIndex': 0}),\n",
       "  'event': 'NewTaxBill',\n",
       "  'logIndex': 0,\n",
       "  'transactionIndex': 0,\n",
       "  'transactionHash': HexBytes('0xe649782982bdbdaa0cef07d2fbcc9bd5316227414ffb99132c5b7e27be341bde'),\n",
       "  'address': '0xF2E246BB76DF876Cef8b38ae84130F4F55De395b',\n",
       "  'blockHash': HexBytes('0x1034ec5ba775a56d17e1606c6b7299e795c6ab3cdfcad344fef21bc13a22c5c2'),\n",
       "  'blockNumber': 13})]"
      ]
     },
     "execution_count": 23,
     "metadata": {},
     "output_type": "execute_result"
    }
   ],
   "source": [
    "# See that a new tax bill event was created\n",
    "read_log_entries(bethel, \"NewTaxBill\")"
   ]
  },
  {
   "cell_type": "code",
   "execution_count": 24,
   "metadata": {},
   "outputs": [
    {
     "name": "stdout",
     "output_type": "stream",
     "text": [
      "Property owes... 0 \n"
     ]
    }
   ],
   "source": [
    "def get_tax_bill(tax_auth, i):\n",
    "    return interface.instance_at_address(\n",
    "        \"TaxBill\",\n",
    "        tax_auth.functions.taxBills(i).call()\n",
    "    )\n",
    "tax_bill = get_tax_bill(bethel, 0)\n",
    "print (\"Property owes... %d \" % tax_bill.functions.amountDue(greenwood_1.address).call())"
   ]
  },
  {
   "cell_type": "markdown",
   "metadata": {},
   "source": [
    "# 4. Paying taxes\n",
    "\n",
    "Now that a tax bill has been issued, let's see if our properties are still paid current"
   ]
  },
  {
   "cell_type": "code",
   "execution_count": 25,
   "metadata": {},
   "outputs": [
    {
     "data": {
      "text/plain": [
       "False"
      ]
     },
     "execution_count": 25,
     "metadata": {},
     "output_type": "execute_result"
    }
   ],
   "source": [
    "# Is Greenwood 1 still paid current?\n",
    "get_property(bethel, \"1 Greenwood Avenue\").functions.isPaidCurrent().call()"
   ]
  },
  {
   "cell_type": "markdown",
   "metadata": {},
   "source": [
    "### Let's see how much the owner owes"
   ]
  },
  {
   "cell_type": "code",
   "execution_count": 26,
   "metadata": {},
   "outputs": [
    {
     "name": "stdout",
     "output_type": "stream",
     "text": [
      "Summary for 1 Greenwood Avenue in Bethel\n",
      "========================================\n",
      "* Owner is bethel tax authority\n",
      "* Assessed value is 0\n",
      "* The maximum sale price is 0\n",
      "* The tax authority has issued 1 tax bills\n",
      "* The property has paid 0 tax bills\n",
      "* Here's the next outstanding bill: 0\n",
      "* The property is not paid current\n"
     ]
    }
   ],
   "source": [
    "def property_summary(tax_auth, property_name):\n",
    "    \n",
    "    prop = get_property(tax_auth, property_name)\n",
    "    \n",
    "    underline(\"Summary for %s in %s\" % (\n",
    "        property_name,\n",
    "        bytes2str(tax_auth.functions.name().call()),\n",
    "    ))\n",
    "    \n",
    "    assessed_value = prop.functions.assessedValue().call()\n",
    "   \n",
    "    print (\"* Owner is %s\" % who_owns(prop))\n",
    "    print (\"* Assessed value is %d\" % assessed_value)\n",
    "    print (\"* The maximum sale price is %d\" % \n",
    "           tax_auth.functions.maximumSalePrice(assessed_value).call())\n",
    "    print (\"* The tax authority has issued %d tax bills\" % tax_auth.functions.taxBillCount().call())\n",
    "    print (\"* The property has paid %d tax bills\" % prop.functions.billIndex().call())\n",
    "    is_paid = \"is not\"\n",
    "    \n",
    "    if prop.functions.isPaidCurrent().call():\n",
    "        is_paid = \"is\"\n",
    "    else:\n",
    "        print (\n",
    "        \"* Here's the next outstanding bill: %d\" % \n",
    "               get_tax_bill(\n",
    "                   tax_auth, \n",
    "               prop.functions.billIndex().call()\n",
    "           ).functions.amountDue(prop.address).call()\n",
    "          )\n",
    "\n",
    "    print (\"* The property %s paid current\" % is_paid)\n",
    "    \n",
    "property_summary(bethel, \"1 Greenwood Avenue\")\n"
   ]
  },
  {
   "cell_type": "markdown",
   "metadata": {},
   "source": [
    "###  Nothing? That's because the property has no value...\n",
    "\n",
    "Let's make it a $1 million property."
   ]
  },
  {
   "cell_type": "code",
   "execution_count": 27,
   "metadata": {},
   "outputs": [
    {
     "data": {
      "text/plain": [
       "HexBytes('0x1233d71be121ca46a602f1087f8462ed998b84d2eb555ed94f17208a5c86a566')"
      ]
     },
     "execution_count": 27,
     "metadata": {},
     "output_type": "execute_result"
    }
   ],
   "source": [
    "def set_assessed_value(tax_auth, prop, new_value):\n",
    "    return tax_auth.functions.setPropertyAssessedValue(\n",
    "        prop.address, 1000 * 1000\n",
    "    ).transact() \n",
    "\n",
    "set_assessed_value(bethel,\n",
    "                   greenwood_1,\n",
    "                   1000 * 1000)\n"
   ]
  },
  {
   "cell_type": "markdown",
   "metadata": {},
   "source": [
    "... remember, tax rates are permille, not percent, so they are $30 per $1,000 in value, or:"
   ]
  },
  {
   "cell_type": "code",
   "execution_count": 28,
   "metadata": {},
   "outputs": [
    {
     "name": "stdout",
     "output_type": "stream",
     "text": [
      "Summary for 1 Greenwood Avenue in Bethel\n",
      "========================================\n",
      "* Owner is bethel tax authority\n",
      "* Assessed value is 1000000\n",
      "* The maximum sale price is 1500000\n",
      "* The tax authority has issued 1 tax bills\n",
      "* The property has paid 0 tax bills\n",
      "* Here's the next outstanding bill: 30000\n",
      "* The property is not paid current\n"
     ]
    }
   ],
   "source": [
    "#print (\"Property owes... %d \" % tax_bill.functions.amountDue(greenwood_1.address).call())\n",
    "property_summary(bethel, \"1 Greenwood Avenue\")\n"
   ]
  },
  {
   "cell_type": "code",
   "execution_count": 29,
   "metadata": {},
   "outputs": [],
   "source": [
    "# Pay the taxes\n",
    "\n",
    "def pay_next_bill(tax_auth, prop):\n",
    "    tax_auth.functions.payBill(prop.address).transact({\n",
    "        \"value\":tax_bill.functions.amountDue(prop.address).call(),\n",
    "    })\n",
    "    \n",
    "pay_next_bill(bethel, greenwood_1)"
   ]
  },
  {
   "cell_type": "code",
   "execution_count": 30,
   "metadata": {},
   "outputs": [
    {
     "name": "stdout",
     "output_type": "stream",
     "text": [
      "Summary for 1 Greenwood Avenue in Bethel\n",
      "========================================\n",
      "* Owner is bethel tax authority\n",
      "* Assessed value is 1000000\n",
      "* The maximum sale price is 1500000\n",
      "* The tax authority has issued 1 tax bills\n",
      "* The property has paid 1 tax bills\n",
      "* The property is paid current\n"
     ]
    }
   ],
   "source": [
    "property_summary(bethel, \"1 Greenwood Avenue\")\n"
   ]
  },
  {
   "cell_type": "code",
   "execution_count": 31,
   "metadata": {},
   "outputs": [
    {
     "data": {
      "text/plain": [
       "[AttributeDict({'args': AttributeDict({'status': 2}),\n",
       "  'event': 'BillPaid',\n",
       "  'logIndex': 0,\n",
       "  'transactionIndex': 0,\n",
       "  'transactionHash': HexBytes('0xb10f1e6f9c781f30e5a9234ea30e63236edaa6e074d5e4d8ed3a65afcf122ff8'),\n",
       "  'address': '0xF2E246BB76DF876Cef8b38ae84130F4F55De395b',\n",
       "  'blockHash': HexBytes('0x652285bc2070cb81828b852d3c4c68b07999c46dae9feb73c55588fcaacc3243'),\n",
       "  'blockNumber': 15})]"
      ]
     },
     "execution_count": 31,
     "metadata": {},
     "output_type": "execute_result"
    }
   ],
   "source": [
    "# Hooray! The taxes are paid. Let's check the town records...\n",
    "read_log_entries(bethel, \"BillPaid\")"
   ]
  },
  {
   "cell_type": "code",
   "execution_count": 32,
   "metadata": {},
   "outputs": [
    {
     "data": {
      "text/plain": [
       "30000"
      ]
     },
     "execution_count": 32,
     "metadata": {},
     "output_type": "execute_result"
    }
   ],
   "source": [
    "# Checking the town's total receipts\n",
    "tax_bill.functions.totalReceipts().call()"
   ]
  },
  {
   "cell_type": "code",
   "execution_count": 33,
   "metadata": {},
   "outputs": [
    {
     "name": "stdout",
     "output_type": "stream",
     "text": [
      "    0x7E5F455209  default: me: 999999999999999993693550\n",
      "    0x2B5AD5c479          joe: 1000000000000000000000000\n",
      "    0x6813Eb9362          bob: 1000000000000000000000000\n",
      "    0x1efF47bc3a        steve: 1000000000000000000000000\n",
      "    0xe1AB8145F7         bill: 1000000000000000000000000\n",
      "    0xE57bFE9F44        alice: 1000000000000000000000000\n",
      "    0xd41c057fd1         jane: 1000000000000000000000000\n",
      "    0xF1F6619B38        kathy: 1000000000000000000000000\n",
      "    0xF7Edc8FA1e        sarah: 1000000000000000000000000\n",
      "    0x4CCeBa2d7D         iris: 1000000000000000000000000\n",
      "    0xF2E246BB76 bethel tax authority: 30000\n"
     ]
    }
   ],
   "source": [
    "print_universe()"
   ]
  },
  {
   "cell_type": "markdown",
   "metadata": {},
   "source": [
    "# 5. Making an offer\n",
    "\n",
    "Remeber the rules:\n",
    "\n",
    "1. A property with back taxes cannot be sold\n",
    "2. A  property cannot be sold for a lot more than* its assessed value\n",
    "\n",
    "\"A lot more\" is defined as:\n",
    "\n",
    "property.assessedValue + (tax_authority.auditTreshold / 1000) * property.assessedValue"
   ]
  },
  {
   "cell_type": "code",
   "execution_count": 34,
   "metadata": {},
   "outputs": [
    {
     "data": {
      "text/plain": [
       "999999999999999993693550"
      ]
     },
     "execution_count": 34,
     "metadata": {},
     "output_type": "execute_result"
    }
   ],
   "source": [
    "def get_address_balance(address):\n",
    "    return interface.w3.eth.getBalance(address)\n",
    "\n",
    "def get_entity_balance(entity):\n",
    "    return get_address_balance(entity.address)\n",
    "\n",
    "get_address_balance(get_address(\"me\"))"
   ]
  },
  {
   "cell_type": "code",
   "execution_count": 35,
   "metadata": {},
   "outputs": [
    {
     "name": "stdout",
     "output_type": "stream",
     "text": [
      "1 Greenwood Avenue: joe\n",
      "2 Greenwood Avenue: bob\n",
      "3 Greenwood Avenue: bob\n",
      "4 Greenwood Avenue: bob\n"
     ]
    }
   ],
   "source": [
    "# First let's test that we can transfer a property\n",
    "transfer_property(bethel, greenwood_1, get_address(\"joe\"))\n",
    "who_owns_every_property(bethel)"
   ]
  },
  {
   "cell_type": "code",
   "execution_count": 36,
   "metadata": {},
   "outputs": [],
   "source": [
    "# Now let's make an offer. \n",
    "# Alice wants to buy 1 Greenwood Avenue for $1,000,001\n",
    "\n",
    "def submit_offer(prop, amount, from_user):\n",
    "    offer = interface.instance(\n",
    "        name=\"Offer\",\n",
    "        constructor_args=[prop.address],\n",
    "        transaction_params={\n",
    "            \"value\": amount,\n",
    "            \"from\":get_address(from_user)\n",
    "        }\n",
    "    )\n",
    "\n",
    "    # Submit the offer\n",
    "    greenwood_1.functions.makeOffer(\n",
    "        offer.address\n",
    "    ).transact({\"from\":get_address(from_user)})\n",
    "    read_log_entries(greenwood_1, \"NewOffer\")\n",
    "    \n",
    "    return offer\n",
    "\n",
    "offer = submit_offer(greenwood_1, 1 + 1000 * 1000, \"alice\")\n"
   ]
  },
  {
   "cell_type": "code",
   "execution_count": 37,
   "metadata": {},
   "outputs": [
    {
     "data": {
      "text/plain": [
       "1000001"
      ]
     },
     "execution_count": 37,
     "metadata": {},
     "output_type": "execute_result"
    }
   ],
   "source": [
    "# Let's make sure the offer is funded\n",
    "interface.w3.eth.getBalance(offer.address)"
   ]
  },
  {
   "cell_type": "markdown",
   "metadata": {},
   "source": [
    "# 6. Accepting an offer"
   ]
  },
  {
   "cell_type": "code",
   "execution_count": 38,
   "metadata": {},
   "outputs": [
    {
     "data": {
      "text/plain": [
       "1000000000000000000000000"
      ]
     },
     "execution_count": 38,
     "metadata": {},
     "output_type": "execute_result"
    }
   ],
   "source": [
    "# Let's see how much money joe has before we accept the transaction\n",
    "interface.w3.eth.getBalance(get_address(\"joe\"))"
   ]
  },
  {
   "cell_type": "code",
   "execution_count": 39,
   "metadata": {},
   "outputs": [
    {
     "data": {
      "text/plain": [
       "HexBytes('0x96bf1c092b9d9e5ec88087cee5e72e15ef424ffc74577b7588055ca7bc14d128')"
      ]
     },
     "execution_count": 39,
     "metadata": {},
     "output_type": "execute_result"
    }
   ],
   "source": [
    "offer.functions.accept().transact({\"from\":get_address(\"joe\")})"
   ]
  },
  {
   "cell_type": "code",
   "execution_count": 40,
   "metadata": {},
   "outputs": [
    {
     "data": {
      "text/plain": [
       "1000000000000000000924093"
      ]
     },
     "execution_count": 40,
     "metadata": {},
     "output_type": "execute_result"
    }
   ],
   "source": [
    "interface.w3.eth.getBalance(get_address(\"joe\"))"
   ]
  },
  {
   "cell_type": "code",
   "execution_count": 41,
   "metadata": {},
   "outputs": [
    {
     "data": {
      "text/plain": [
       "'alice'"
      ]
     },
     "execution_count": 41,
     "metadata": {},
     "output_type": "execute_result"
    }
   ],
   "source": [
    "# Now let's see who owns it\n",
    "who_owns(greenwood_1)"
   ]
  },
  {
   "cell_type": "code",
   "execution_count": 42,
   "metadata": {},
   "outputs": [
    {
     "name": "stdout",
     "output_type": "stream",
     "text": [
      "    0x7E5F455209  default: me: 999999999999999993659683\n",
      "    0x2B5AD5c479          joe: 1000000000000000000924093\n",
      "    0x6813Eb9362          bob: 1000000000000000000000000\n",
      "    0x1efF47bc3a        steve: 1000000000000000000000000\n",
      "    0xe1AB8145F7         bill: 1000000000000000000000000\n",
      "    0xE57bFE9F44        alice: 999999999999999997788543\n",
      "    0xd41c057fd1         jane: 1000000000000000000000000\n",
      "    0xF1F6619B38        kathy: 1000000000000000000000000\n",
      "    0xF7Edc8FA1e        sarah: 1000000000000000000000000\n",
      "    0x4CCeBa2d7D         iris: 1000000000000000000000000\n",
      "    0xF2E246BB76 bethel tax authority: 40000\n"
     ]
    }
   ],
   "source": [
    "print_universe()"
   ]
  },
  {
   "cell_type": "code",
   "execution_count": 43,
   "metadata": {},
   "outputs": [
    {
     "data": {
      "text/plain": [
       "HexBytes('0x5618cbd3152e7c8dafa533ad5dc6fbc13e7d29c1bf938e7952d610598b18ef39')"
      ]
     },
     "execution_count": 43,
     "metadata": {},
     "output_type": "execute_result"
    }
   ],
   "source": [
    "# Now let's try an invalid transaction. \n",
    "# jane will try to buy the property for 2 million\n",
    "offer2 = submit_offer(greenwood_1, 1 + 2000 * 1000, \"jane\")\n",
    "offer2.functions.accept().transact({\"from\":get_address(\"alice\")})"
   ]
  },
  {
   "cell_type": "code",
   "execution_count": 44,
   "metadata": {},
   "outputs": [
    {
     "data": {
      "text/plain": [
       "'alice'"
      ]
     },
     "execution_count": 44,
     "metadata": {},
     "output_type": "execute_result"
    }
   ],
   "source": [
    "# We can see that the transaction failed and Alice still owns the property\n",
    "who_owns(greenwood_1)"
   ]
  },
  {
   "cell_type": "code",
   "execution_count": 45,
   "metadata": {},
   "outputs": [
    {
     "name": "stdout",
     "output_type": "stream",
     "text": [
      "Summary for 1 Greenwood Avenue in Bethel\n",
      "========================================\n",
      "* Owner is alice\n",
      "* Assessed value is 1000000\n",
      "* The maximum sale price is 1500000\n",
      "* The tax authority has issued 1 tax bills\n",
      "* The property has paid 1 tax bills\n",
      "* The property is paid current\n"
     ]
    }
   ],
   "source": [
    "property_summary(bethel, \"1 Greenwood Avenue\")"
   ]
  },
  {
   "cell_type": "code",
   "execution_count": 46,
   "metadata": {},
   "outputs": [
    {
     "name": "stdout",
     "output_type": "stream",
     "text": [
      "Summary for 1 Greenwood Avenue in Bethel\n",
      "========================================\n",
      "* Owner is jane\n",
      "* Assessed value is 1000000\n",
      "* The maximum sale price is 1500000\n",
      "* The tax authority has issued 1 tax bills\n",
      "* The property has paid 1 tax bills\n",
      "* The property is paid current\n"
     ]
    }
   ],
   "source": [
    "# OK, Jane has decied to make a new offer\n",
    "offer2 = submit_offer(greenwood_1, 1500 * 1000, \"jane\")\n",
    "offer2.functions.accept().transact({\"from\":get_address(\"alice\")})\n",
    "property_summary(bethel, \"1 Greenwood Avenue\")"
   ]
  },
  {
   "cell_type": "code",
   "execution_count": 47,
   "metadata": {},
   "outputs": [
    {
     "name": "stdout",
     "output_type": "stream",
     "text": [
      "1 Greenwood Avenue: jane\n",
      "2 Greenwood Avenue: bob\n",
      "3 Greenwood Avenue: bob\n",
      "4 Greenwood Avenue: bob\n"
     ]
    }
   ],
   "source": [
    "who_owns_every_property(bethel)"
   ]
  },
  {
   "cell_type": "code",
   "execution_count": 48,
   "metadata": {},
   "outputs": [
    {
     "name": "stdout",
     "output_type": "stream",
     "text": [
      "    0x7E5F455209  default: me: 999999999999999993659683\n",
      "    0x2B5AD5c479          joe: 1000000000000000000924093\n",
      "    0x6813Eb9362          bob: 1000000000000000000000000\n",
      "    0x1efF47bc3a        steve: 1000000000000000000000000\n",
      "    0xe1AB8145F7         bill: 1000000000000000000000000\n",
      "    0xE57bFE9F44        alice: 999999999999999999162541\n",
      "    0xd41c057fd1         jane: 999999999999999994137151\n",
      "    0xF1F6619B38        kathy: 1000000000000000000000000\n",
      "    0xF7Edc8FA1e        sarah: 1000000000000000000000000\n",
      "    0x4CCeBa2d7D         iris: 1000000000000000000000000\n",
      "    0xF2E246BB76 bethel tax authority: 2055001\n"
     ]
    }
   ],
   "source": [
    "print_universe()"
   ]
  },
  {
   "cell_type": "code",
   "execution_count": null,
   "metadata": {},
   "outputs": [],
   "source": []
  }
 ],
 "metadata": {
  "kernelspec": {
   "display_name": "Python 3",
   "language": "python",
   "name": "python3"
  },
  "language_info": {
   "codemirror_mode": {
    "name": "ipython",
    "version": 3
   },
   "file_extension": ".py",
   "mimetype": "text/x-python",
   "name": "python",
   "nbconvert_exporter": "python",
   "pygments_lexer": "ipython3",
   "version": "3.6.5"
  }
 },
 "nbformat": 4,
 "nbformat_minor": 2
}
